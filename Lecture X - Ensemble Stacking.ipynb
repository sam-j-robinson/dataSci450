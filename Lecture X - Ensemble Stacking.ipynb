{
 "cells": [
  {
   "cell_type": "markdown",
   "metadata": {
    "collapsed": true
   },
   "source": [
    "# Ensembles  \n",
    "Credits: https://cran.r-project.org/web/packages/caretEnsemble/vignettes/caretEnsemble-intro.html"
   ]
  },
  {
   "cell_type": "code",
   "execution_count": 45,
   "metadata": {
    "collapsed": false
   },
   "outputs": [
    {
     "name": "stderr",
     "output_type": "stream",
     "text": [
      "Installing package into '/home/nbcommon/R'\n",
      "(as 'lib' is unspecified)\n"
     ]
    }
   ],
   "source": [
    "install.packages(\"caretEnsemble\")"
   ]
  },
  {
   "cell_type": "code",
   "execution_count": 46,
   "metadata": {
    "collapsed": false
   },
   "outputs": [],
   "source": [
    "# Load the libraries used in this example\n",
    "library(\"caret\")\n",
    "library(\"mlbench\")\n",
    "library(\"pROC\")"
   ]
  },
  {
   "cell_type": "code",
   "execution_count": 47,
   "metadata": {
    "collapsed": true
   },
   "outputs": [],
   "source": [
    "# load the sample data into the environment\n",
    "# Split into train and test\n",
    "data(Sonar)\n",
    "set.seed(98052)\n",
    "inTrain <- createDataPartition(y = Sonar$Class, p = .75, list = FALSE)\n",
    "training <- Sonar[ inTrain,]\n",
    "testing <- Sonar[-inTrain,]"
   ]
  },
  {
   "cell_type": "code",
   "execution_count": 48,
   "metadata": {
    "collapsed": true
   },
   "outputs": [],
   "source": [
    "# Specify the training parameters\n",
    "caretList_control <- trainControl(method=\"cv\", number=5)"
   ]
  },
  {
   "cell_type": "code",
   "execution_count": 49,
   "metadata": {
    "collapsed": false
   },
   "outputs": [],
   "source": [
    "library(\"rpart\")\n",
    "library(\"caretEnsemble\")\n"
   ]
  },
  {
   "cell_type": "markdown",
   "metadata": {},
   "source": [
    "## Using caretEnsemble  \n",
    "Greey Linear Optimization on AUC "
   ]
  },
  {
   "cell_type": "code",
   "execution_count": 50,
   "metadata": {
    "collapsed": true
   },
   "outputs": [],
   "source": [
    "library(\"caTools\")"
   ]
  },
  {
   "cell_type": "code",
   "execution_count": 51,
   "metadata": {
    "collapsed": false
   },
   "outputs": [
    {
     "name": "stdout",
     "output_type": "stream",
     "text": [
      "The following models were ensembled: rpart, glm \n",
      "They were weighted: \n",
      "1.3745 -1.92 -0.9703\n",
      "The resulting ROC is: 0.7745\n",
      "The fit for each individual model on the ROC is: \n",
      " method       ROC      ROCSD\n",
      "  rpart 0.7156265 0.05991560\n",
      "    glm 0.6831013 0.07740682\n"
     ]
    }
   ],
   "source": [
    "greedy_ensemble <- caretEnsemble(\n",
    "  model_list, \n",
    "  metric=\"ROC\",\n",
    "  trControl=trainControl(\n",
    "    number=2,\n",
    "    summaryFunction=twoClassSummary,\n",
    "    classProbs=TRUE\n",
    "    ))\n",
    "summary(greedy_ensemble)"
   ]
  },
  {
   "cell_type": "code",
   "execution_count": 52,
   "metadata": {
    "collapsed": false
   },
   "outputs": [
    {
     "data": {
      "text/html": [
       "<table>\n",
       "<thead><tr><th scope=col>rpart</th><th scope=col>glm</th><th scope=col>ensemble</th></tr></thead>\n",
       "<tbody>\n",
       "\t<tr><td>0.2089552   </td><td>1.000000e+00</td><td>0.4639712   </td></tr>\n",
       "\t<tr><td>0.2089552   </td><td>2.220446e-16</td><td>0.2469954   </td></tr>\n",
       "\t<tr><td>0.8873239   </td><td>1.000000e+00</td><td>0.7609905   </td></tr>\n",
       "\t<tr><td>0.8873239   </td><td>2.220446e-16</td><td>0.5468078   </td></tr>\n",
       "\t<tr><td>0.2089552   </td><td>2.220446e-16</td><td>0.2469954   </td></tr>\n",
       "\t<tr><td>0.2089552   </td><td>2.220446e-16</td><td>0.2469954   </td></tr>\n",
       "</tbody>\n",
       "</table>\n"
      ],
      "text/latex": [
       "\\begin{tabular}{r|lll}\n",
       " rpart & glm & ensemble\\\\\n",
       "\\hline\n",
       "\t 0.2089552    & 1.000000e+00 & 0.4639712   \\\\\n",
       "\t 0.2089552    & 2.220446e-16 & 0.2469954   \\\\\n",
       "\t 0.8873239    & 1.000000e+00 & 0.7609905   \\\\\n",
       "\t 0.8873239    & 2.220446e-16 & 0.5468078   \\\\\n",
       "\t 0.2089552    & 2.220446e-16 & 0.2469954   \\\\\n",
       "\t 0.2089552    & 2.220446e-16 & 0.2469954   \\\\\n",
       "\\end{tabular}\n"
      ],
      "text/markdown": [
       "\n",
       "rpart | glm | ensemble | \n",
       "|---|---|---|---|---|---|\n",
       "| 0.2089552    | 1.000000e+00 | 0.4639712    | \n",
       "| 0.2089552    | 2.220446e-16 | 0.2469954    | \n",
       "| 0.8873239    | 1.000000e+00 | 0.7609905    | \n",
       "| 0.8873239    | 2.220446e-16 | 0.5468078    | \n",
       "| 0.2089552    | 2.220446e-16 | 0.2469954    | \n",
       "| 0.2089552    | 2.220446e-16 | 0.2469954    | \n",
       "\n",
       "\n"
      ],
      "text/plain": [
       "  rpart     glm          ensemble \n",
       "1 0.2089552 1.000000e+00 0.4639712\n",
       "2 0.2089552 2.220446e-16 0.2469954\n",
       "3 0.8873239 1.000000e+00 0.7609905\n",
       "4 0.8873239 2.220446e-16 0.5468078\n",
       "5 0.2089552 2.220446e-16 0.2469954\n",
       "6 0.2089552 2.220446e-16 0.2469954"
      ]
     },
     "metadata": {},
     "output_type": "display_data"
    },
    {
     "data": {
      "text/html": [
       "<table>\n",
       "<thead><tr><th></th><th scope=col>rpart</th><th scope=col>glm</th><th scope=col>ensemble</th></tr></thead>\n",
       "<tbody>\n",
       "\t<tr><th scope=row>M vs. R</th><td>0.7307099</td><td>0.75     </td><td>0.7932099</td></tr>\n",
       "</tbody>\n",
       "</table>\n"
      ],
      "text/latex": [
       "\\begin{tabular}{r|lll}\n",
       "  & rpart & glm & ensemble\\\\\n",
       "\\hline\n",
       "\tM vs. R & 0.7307099 & 0.75      & 0.7932099\\\\\n",
       "\\end{tabular}\n"
      ],
      "text/markdown": [
       "\n",
       "| <!--/--> | rpart | glm | ensemble | \n",
       "|---|\n",
       "| M vs. R | 0.7307099 | 0.75      | 0.7932099 | \n",
       "\n",
       "\n"
      ],
      "text/plain": [
       "        rpart     glm  ensemble \n",
       "M vs. R 0.7307099 0.75 0.7932099"
      ]
     },
     "metadata": {},
     "output_type": "display_data"
    }
   ],
   "source": [
    "model_preds <- lapply(model_list, predict, newdata=testing, type=\"prob\")\n",
    "model_preds <- lapply(model_preds, function(x) x[,\"M\"])\n",
    "model_preds <- data.frame(model_preds)\n",
    "    \n",
    "# Using the greedy ensemble defined above\n",
    "ens_preds <- predict(greedy_ensemble, newdata=testing, type=\"prob\")\n",
    "model_preds$ensemble <- ens_preds\n",
    "    \n",
    "head(model_preds)    \n",
    "# Area under ROC curve\n",
    "colAUC(model_preds, testing$Class)"
   ]
  },
  {
   "cell_type": "markdown",
   "metadata": {},
   "source": [
    "## Using caret Stack  \n",
    "Combine several predictive models via stacking"
   ]
  },
  {
   "cell_type": "code",
   "execution_count": 53,
   "metadata": {
    "collapsed": false
   },
   "outputs": [
    {
     "data": {
      "text/plain": [
       "\n",
       "Call:\n",
       "NULL\n",
       "\n",
       "Deviance Residuals: \n",
       "    Min       1Q   Median       3Q      Max  \n",
       "-1.7888  -0.9671  -0.6384   0.8520   1.8517  \n",
       "\n",
       "Coefficients:\n",
       "            Estimate Std. Error z value Pr(>|z|)    \n",
       "(Intercept)   1.3745     0.1110  12.385  < 2e-16 ***\n",
       "rpart        -1.9200     0.1474 -13.024  < 2e-16 ***\n",
       "glm          -0.9703     0.1212  -8.006 1.18e-15 ***\n",
       "---\n",
       "Signif. codes:  0 '***' 0.001 '**' 0.01 '*' 0.05 '.' 0.1 ' ' 1\n",
       "\n",
       "(Dispersion parameter for binomial family taken to be 1)\n",
       "\n",
       "    Null deviance: 1975.4  on 1429  degrees of freedom\n",
       "Residual deviance: 1662.9  on 1427  degrees of freedom\n",
       "AIC: 1668.9\n",
       "\n",
       "Number of Fisher Scoring iterations: 4\n"
      ]
     },
     "metadata": {},
     "output_type": "display_data"
    }
   ],
   "source": [
    "glm_ensemble <- caretStack(\n",
    "  model_list,\n",
    "  method=\"glm\",\n",
    "  metric=\"ROC\",\n",
    "  trControl=trainControl(\n",
    "    method=\"boot\",\n",
    "    number=10,\n",
    "    savePredictions=\"final\",\n",
    "    classProbs=TRUE,\n",
    "    summaryFunction=twoClassSummary\n",
    "  )\n",
    ")\n",
    "\n",
    "summary(glm_ensemble)\n"
   ]
  },
  {
   "cell_type": "code",
   "execution_count": 55,
   "metadata": {
    "collapsed": false
   },
   "outputs": [
    {
     "data": {
      "text/html": [
       "<table>\n",
       "<thead><tr><th scope=col>rpart</th><th scope=col>glm</th><th scope=col>ensemble</th></tr></thead>\n",
       "<tbody>\n",
       "\t<tr><td>0.2089552   </td><td>1.000000e+00</td><td>0.4639712   </td></tr>\n",
       "\t<tr><td>0.2089552   </td><td>2.220446e-16</td><td>0.2469954   </td></tr>\n",
       "\t<tr><td>0.8873239   </td><td>1.000000e+00</td><td>0.7609905   </td></tr>\n",
       "\t<tr><td>0.8873239   </td><td>2.220446e-16</td><td>0.5468078   </td></tr>\n",
       "\t<tr><td>0.2089552   </td><td>2.220446e-16</td><td>0.2469954   </td></tr>\n",
       "\t<tr><td>0.2089552   </td><td>2.220446e-16</td><td>0.2469954   </td></tr>\n",
       "</tbody>\n",
       "</table>\n"
      ],
      "text/latex": [
       "\\begin{tabular}{r|lll}\n",
       " rpart & glm & ensemble\\\\\n",
       "\\hline\n",
       "\t 0.2089552    & 1.000000e+00 & 0.4639712   \\\\\n",
       "\t 0.2089552    & 2.220446e-16 & 0.2469954   \\\\\n",
       "\t 0.8873239    & 1.000000e+00 & 0.7609905   \\\\\n",
       "\t 0.8873239    & 2.220446e-16 & 0.5468078   \\\\\n",
       "\t 0.2089552    & 2.220446e-16 & 0.2469954   \\\\\n",
       "\t 0.2089552    & 2.220446e-16 & 0.2469954   \\\\\n",
       "\\end{tabular}\n"
      ],
      "text/markdown": [
       "\n",
       "rpart | glm | ensemble | \n",
       "|---|---|---|---|---|---|\n",
       "| 0.2089552    | 1.000000e+00 | 0.4639712    | \n",
       "| 0.2089552    | 2.220446e-16 | 0.2469954    | \n",
       "| 0.8873239    | 1.000000e+00 | 0.7609905    | \n",
       "| 0.8873239    | 2.220446e-16 | 0.5468078    | \n",
       "| 0.2089552    | 2.220446e-16 | 0.2469954    | \n",
       "| 0.2089552    | 2.220446e-16 | 0.2469954    | \n",
       "\n",
       "\n"
      ],
      "text/plain": [
       "  rpart     glm          ensemble \n",
       "1 0.2089552 1.000000e+00 0.4639712\n",
       "2 0.2089552 2.220446e-16 0.2469954\n",
       "3 0.8873239 1.000000e+00 0.7609905\n",
       "4 0.8873239 2.220446e-16 0.5468078\n",
       "5 0.2089552 2.220446e-16 0.2469954\n",
       "6 0.2089552 2.220446e-16 0.2469954"
      ]
     },
     "metadata": {},
     "output_type": "display_data"
    },
    {
     "data": {
      "text/html": [
       "<table>\n",
       "<thead><tr><th></th><th scope=col>rpart</th><th scope=col>glm</th><th scope=col>ensemble</th></tr></thead>\n",
       "<tbody>\n",
       "\t<tr><th scope=row>M vs. R</th><td>0.7307099</td><td>0.75     </td><td>0.7932099</td></tr>\n",
       "</tbody>\n",
       "</table>\n"
      ],
      "text/latex": [
       "\\begin{tabular}{r|lll}\n",
       "  & rpart & glm & ensemble\\\\\n",
       "\\hline\n",
       "\tM vs. R & 0.7307099 & 0.75      & 0.7932099\\\\\n",
       "\\end{tabular}\n"
      ],
      "text/markdown": [
       "\n",
       "| <!--/--> | rpart | glm | ensemble | \n",
       "|---|\n",
       "| M vs. R | 0.7307099 | 0.75      | 0.7932099 | \n",
       "\n",
       "\n"
      ],
      "text/plain": [
       "        rpart     glm  ensemble \n",
       "M vs. R 0.7307099 0.75 0.7932099"
      ]
     },
     "metadata": {},
     "output_type": "display_data"
    }
   ],
   "source": [
    "model_preds2 <- model_preds\n",
    "model_preds2$ensemble <- predict(glm_ensemble, newdata=testing, type=\"prob\")\n",
    "CF <- coef(glm_ensemble$ens_model$finalModel)[-1]\n",
    "\n",
    "head(model_preds2)\n",
    "\n",
    "# Area under ROC curve\n",
    "colAUC(model_preds2, testing$Class)"
   ]
  },
  {
   "cell_type": "code",
   "execution_count": null,
   "metadata": {
    "collapsed": true
   },
   "outputs": [],
   "source": []
  }
 ],
 "metadata": {
  "kernelspec": {
   "display_name": "R",
   "language": "R",
   "name": "r"
  },
  "language_info": {
   "codemirror_mode": "r",
   "file_extension": ".r",
   "mimetype": "text/x-r-source",
   "name": "R",
   "pygments_lexer": "r",
   "version": "3.3.0"
  }
 },
 "nbformat": 4,
 "nbformat_minor": 2
}
