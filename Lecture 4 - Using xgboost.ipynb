{
 "cells": [
  {
   "cell_type": "markdown",
   "metadata": {},
   "source": [
    "# Using xgboost for data exploration"
   ]
  },
  {
   "cell_type": "markdown",
   "metadata": {},
   "source": [
    "Credits: https://cran.r-project.org/web/packages/xgboost/vignettes/discoverYourData.html"
   ]
  },
  {
   "cell_type": "code",
   "execution_count": 15,
   "metadata": {
    "collapsed": false
   },
   "outputs": [
    {
     "name": "stderr",
     "output_type": "stream",
     "text": [
      "Installing package into '/home/nbcommon/R'\n",
      "(as 'lib' is unspecified)\n",
      "Installing package into '/home/nbcommon/R'\n",
      "(as 'lib' is unspecified)\n",
      "Installing package into '/home/nbcommon/R'\n",
      "(as 'lib' is unspecified)\n"
     ]
    }
   ],
   "source": [
    "install.packages(\"xgboost\")\n",
    "install.packages(\"data.table\")\n",
    "install.packages(\"Matrix\")"
   ]
  },
  {
   "cell_type": "code",
   "execution_count": 47,
   "metadata": {
    "collapsed": false
   },
   "outputs": [
    {
     "name": "stderr",
     "output_type": "stream",
     "text": [
      "Installing package into '/home/nbcommon/R'\n",
      "(as 'lib' is unspecified)\n"
     ]
    }
   ],
   "source": [
    "install.packages(\"Ckmeans.1d.dp\")"
   ]
  },
  {
   "cell_type": "code",
   "execution_count": 48,
   "metadata": {
    "collapsed": false
   },
   "outputs": [
    {
     "name": "stderr",
     "output_type": "stream",
     "text": [
      "Loading required package: Ckmeans.1d.dp\n"
     ]
    }
   ],
   "source": [
    "require(xgboost)\n",
    "require(Matrix)\n",
    "require(data.table)\n",
    "require(Ckmeans.1d.dp)\n",
    "if (!require('vcd')) install.packages('vcd')"
   ]
  },
  {
   "cell_type": "code",
   "execution_count": 19,
   "metadata": {
    "collapsed": false
   },
   "outputs": [],
   "source": [
    "data(Arthritis)\n",
    "df <- data.table(Arthritis, keep.rownames = F)\n"
   ]
  },
  {
   "cell_type": "code",
   "execution_count": 20,
   "metadata": {
    "collapsed": false
   },
   "outputs": [
    {
     "name": "stdout",
     "output_type": "stream",
     "text": [
      "Classes 'data.table' and 'data.frame':\t84 obs. of  5 variables:\n",
      " $ ID       : int  57 46 77 17 36 23 75 39 33 55 ...\n",
      " $ Treatment: Factor w/ 2 levels \"Placebo\",\"Treated\": 2 2 2 2 2 2 2 2 2 2 ...\n",
      " $ Sex      : Factor w/ 2 levels \"Female\",\"Male\": 2 2 2 2 2 2 2 2 2 2 ...\n",
      " $ Age      : int  27 29 30 32 46 58 59 59 63 63 ...\n",
      " $ Improved : Ord.factor w/ 3 levels \"None\"<\"Some\"<..: 2 1 1 3 3 3 1 3 1 1 ...\n",
      " - attr(*, \".internal.selfref\")=<externalptr> \n"
     ]
    }
   ],
   "source": [
    "str(df)"
   ]
  },
  {
   "cell_type": "code",
   "execution_count": 30,
   "metadata": {
    "collapsed": false
   },
   "outputs": [
    {
     "data": {},
     "metadata": {},
     "output_type": "display_data"
    },
    {
     "data": {},
     "metadata": {},
     "output_type": "display_data"
    },
    {
     "name": "stdout",
     "output_type": "stream",
     "text": [
      "    ID Treatment    Sex Age Improved AgeDiscret AgeCat\n",
      " 1: 57   Treated   Male  27     Some          3  Young\n",
      " 2: 46   Treated   Male  29     None          3  Young\n",
      " 3: 77   Treated   Male  30     None          3  Young\n",
      " 4: 17   Treated   Male  32   Marked          3    Old\n",
      " 5: 36   Treated   Male  46   Marked          5    Old\n",
      " 6: 23   Treated   Male  58   Marked          6    Old\n",
      " 7: 75   Treated   Male  59     None          6    Old\n",
      " 8: 39   Treated   Male  59   Marked          6    Old\n",
      " 9: 33   Treated   Male  63     None          6    Old\n",
      "10: 55   Treated   Male  63     None          6    Old\n",
      "11: 30   Treated   Male  64     None          6    Old\n",
      "12:  5   Treated   Male  64     Some          6    Old\n",
      "13: 63   Treated   Male  69     None          7    Old\n",
      "14: 83   Treated   Male  70   Marked          7    Old\n",
      "15: 66   Treated Female  23     None          2  Young\n",
      "16: 40   Treated Female  32     None          3    Old\n",
      "17:  6   Treated Female  37     Some          4    Old\n",
      "18:  7   Treated Female  41     None          4    Old\n",
      "19: 72   Treated Female  41   Marked          4    Old\n",
      "20: 37   Treated Female  48     None          5    Old\n",
      "21: 82   Treated Female  48   Marked          5    Old\n",
      "22: 53   Treated Female  55   Marked          6    Old\n",
      "23: 79   Treated Female  55   Marked          6    Old\n",
      "24: 26   Treated Female  56   Marked          6    Old\n",
      "25: 28   Treated Female  57   Marked          6    Old\n",
      "26: 60   Treated Female  57   Marked          6    Old\n",
      "27: 22   Treated Female  57   Marked          6    Old\n",
      "28: 27   Treated Female  58     None          6    Old\n",
      "29:  2   Treated Female  59   Marked          6    Old\n",
      "30: 59   Treated Female  59   Marked          6    Old\n",
      "31: 62   Treated Female  60   Marked          6    Old\n",
      "32: 84   Treated Female  61   Marked          6    Old\n",
      "33: 64   Treated Female  62     Some          6    Old\n",
      "34: 34   Treated Female  62   Marked          6    Old\n",
      "35: 58   Treated Female  66   Marked          7    Old\n",
      "36: 13   Treated Female  67   Marked          7    Old\n",
      "37: 61   Treated Female  68     Some          7    Old\n",
      "38: 65   Treated Female  68   Marked          7    Old\n",
      "39: 11   Treated Female  69     None          7    Old\n",
      "40: 56   Treated Female  69     Some          7    Old\n",
      "41: 43   Treated Female  70     Some          7    Old\n",
      "42:  9   Placebo   Male  37     None          4    Old\n",
      "43: 14   Placebo   Male  44     None          4    Old\n",
      "44: 73   Placebo   Male  50     None          5    Old\n",
      "45: 74   Placebo   Male  51     None          5    Old\n",
      "46: 25   Placebo   Male  52     None          5    Old\n",
      "47: 18   Placebo   Male  53     None          5    Old\n",
      "48: 21   Placebo   Male  59     None          6    Old\n",
      "49: 52   Placebo   Male  59     None          6    Old\n",
      "50: 45   Placebo   Male  62     None          6    Old\n",
      "51: 41   Placebo   Male  62     None          6    Old\n",
      "52:  8   Placebo   Male  63   Marked          6    Old\n",
      "53: 80   Placebo Female  23     None          2  Young\n",
      "54: 12   Placebo Female  30     None          3  Young\n",
      "55: 29   Placebo Female  30     None          3  Young\n",
      "56: 50   Placebo Female  31     Some          3    Old\n",
      "57: 38   Placebo Female  32     None          3    Old\n",
      "58: 35   Placebo Female  33   Marked          3    Old\n",
      "59: 51   Placebo Female  37     None          4    Old\n",
      "60: 54   Placebo Female  44     None          4    Old\n",
      "61: 76   Placebo Female  45     None          4    Old\n",
      "62: 16   Placebo Female  46     None          5    Old\n",
      "63: 69   Placebo Female  48     None          5    Old\n",
      "64: 31   Placebo Female  49     None          5    Old\n",
      "65: 20   Placebo Female  51     None          5    Old\n",
      "66: 68   Placebo Female  53     None          5    Old\n",
      "67: 81   Placebo Female  54     None          5    Old\n",
      "68:  4   Placebo Female  54     None          5    Old\n",
      "69: 78   Placebo Female  54   Marked          5    Old\n",
      "70: 70   Placebo Female  55   Marked          6    Old\n",
      "71: 49   Placebo Female  57     None          6    Old\n",
      "72: 10   Placebo Female  57     Some          6    Old\n",
      "73: 47   Placebo Female  58     Some          6    Old\n",
      "74: 44   Placebo Female  59     Some          6    Old\n",
      "75: 24   Placebo Female  59   Marked          6    Old\n",
      "76: 48   Placebo Female  61     None          6    Old\n",
      "77: 19   Placebo Female  63     Some          6    Old\n",
      "78:  3   Placebo Female  64     None          6    Old\n",
      "79: 67   Placebo Female  65   Marked          6    Old\n",
      "80: 32   Placebo Female  66     None          7    Old\n",
      "81: 42   Placebo Female  66     None          7    Old\n",
      "82: 15   Placebo Female  66     Some          7    Old\n",
      "83: 71   Placebo Female  68     Some          7    Old\n",
      "84:  1   Placebo Female  74   Marked          7    Old\n",
      "    ID Treatment    Sex Age Improved AgeDiscret AgeCat\n"
     ]
    }
   ],
   "source": [
    "# Grouping by 10 years\n",
    "df[,AgeDiscret := as.factor(round(Age/10,0))]\n",
    "df[,AgeCat:= as.factor(ifelse(Age > 30, \"Old\", \"Young\"))]\n",
    "print(df)\n"
   ]
  },
  {
   "cell_type": "code",
   "execution_count": 32,
   "metadata": {
    "collapsed": false
   },
   "outputs": [
    {
     "name": "stderr",
     "output_type": "stream",
     "text": [
      "Warning message in `[.data.table`(df, , `:=`(ID, NULL)):\n",
      "\"Adding new column 'ID' then assigning NULL (deleting it).\""
     ]
    },
    {
     "data": {},
     "metadata": {},
     "output_type": "display_data"
    },
    {
     "name": "stdout",
     "output_type": "stream",
     "text": [
      "    Treatment    Sex Age Improved AgeDiscret AgeCat\n",
      " 1:   Treated   Male  27     Some          3  Young\n",
      " 2:   Treated   Male  29     None          3  Young\n",
      " 3:   Treated   Male  30     None          3  Young\n",
      " 4:   Treated   Male  32   Marked          3    Old\n",
      " 5:   Treated   Male  46   Marked          5    Old\n",
      " 6:   Treated   Male  58   Marked          6    Old\n",
      " 7:   Treated   Male  59     None          6    Old\n",
      " 8:   Treated   Male  59   Marked          6    Old\n",
      " 9:   Treated   Male  63     None          6    Old\n",
      "10:   Treated   Male  63     None          6    Old\n",
      "11:   Treated   Male  64     None          6    Old\n",
      "12:   Treated   Male  64     Some          6    Old\n",
      "13:   Treated   Male  69     None          7    Old\n",
      "14:   Treated   Male  70   Marked          7    Old\n",
      "15:   Treated Female  23     None          2  Young\n",
      "16:   Treated Female  32     None          3    Old\n",
      "17:   Treated Female  37     Some          4    Old\n",
      "18:   Treated Female  41     None          4    Old\n",
      "19:   Treated Female  41   Marked          4    Old\n",
      "20:   Treated Female  48     None          5    Old\n",
      "21:   Treated Female  48   Marked          5    Old\n",
      "22:   Treated Female  55   Marked          6    Old\n",
      "23:   Treated Female  55   Marked          6    Old\n",
      "24:   Treated Female  56   Marked          6    Old\n",
      "25:   Treated Female  57   Marked          6    Old\n",
      "26:   Treated Female  57   Marked          6    Old\n",
      "27:   Treated Female  57   Marked          6    Old\n",
      "28:   Treated Female  58     None          6    Old\n",
      "29:   Treated Female  59   Marked          6    Old\n",
      "30:   Treated Female  59   Marked          6    Old\n",
      "31:   Treated Female  60   Marked          6    Old\n",
      "32:   Treated Female  61   Marked          6    Old\n",
      "33:   Treated Female  62     Some          6    Old\n",
      "34:   Treated Female  62   Marked          6    Old\n",
      "35:   Treated Female  66   Marked          7    Old\n",
      "36:   Treated Female  67   Marked          7    Old\n",
      "37:   Treated Female  68     Some          7    Old\n",
      "38:   Treated Female  68   Marked          7    Old\n",
      "39:   Treated Female  69     None          7    Old\n",
      "40:   Treated Female  69     Some          7    Old\n",
      "41:   Treated Female  70     Some          7    Old\n",
      "42:   Placebo   Male  37     None          4    Old\n",
      "43:   Placebo   Male  44     None          4    Old\n",
      "44:   Placebo   Male  50     None          5    Old\n",
      "45:   Placebo   Male  51     None          5    Old\n",
      "46:   Placebo   Male  52     None          5    Old\n",
      "47:   Placebo   Male  53     None          5    Old\n",
      "48:   Placebo   Male  59     None          6    Old\n",
      "49:   Placebo   Male  59     None          6    Old\n",
      "50:   Placebo   Male  62     None          6    Old\n",
      "51:   Placebo   Male  62     None          6    Old\n",
      "52:   Placebo   Male  63   Marked          6    Old\n",
      "53:   Placebo Female  23     None          2  Young\n",
      "54:   Placebo Female  30     None          3  Young\n",
      "55:   Placebo Female  30     None          3  Young\n",
      "56:   Placebo Female  31     Some          3    Old\n",
      "57:   Placebo Female  32     None          3    Old\n",
      "58:   Placebo Female  33   Marked          3    Old\n",
      "59:   Placebo Female  37     None          4    Old\n",
      "60:   Placebo Female  44     None          4    Old\n",
      "61:   Placebo Female  45     None          4    Old\n",
      "62:   Placebo Female  46     None          5    Old\n",
      "63:   Placebo Female  48     None          5    Old\n",
      "64:   Placebo Female  49     None          5    Old\n",
      "65:   Placebo Female  51     None          5    Old\n",
      "66:   Placebo Female  53     None          5    Old\n",
      "67:   Placebo Female  54     None          5    Old\n",
      "68:   Placebo Female  54     None          5    Old\n",
      "69:   Placebo Female  54   Marked          5    Old\n",
      "70:   Placebo Female  55   Marked          6    Old\n",
      "71:   Placebo Female  57     None          6    Old\n",
      "72:   Placebo Female  57     Some          6    Old\n",
      "73:   Placebo Female  58     Some          6    Old\n",
      "74:   Placebo Female  59     Some          6    Old\n",
      "75:   Placebo Female  59   Marked          6    Old\n",
      "76:   Placebo Female  61     None          6    Old\n",
      "77:   Placebo Female  63     Some          6    Old\n",
      "78:   Placebo Female  64     None          6    Old\n",
      "79:   Placebo Female  65   Marked          6    Old\n",
      "80:   Placebo Female  66     None          7    Old\n",
      "81:   Placebo Female  66     None          7    Old\n",
      "82:   Placebo Female  66     Some          7    Old\n",
      "83:   Placebo Female  68     Some          7    Old\n",
      "84:   Placebo Female  74   Marked          7    Old\n",
      "    Treatment    Sex Age Improved AgeDiscret AgeCat\n"
     ]
    }
   ],
   "source": [
    "# Remove ID\n",
    "df[,ID:=NULL]\n",
    "print(df)"
   ]
  },
  {
   "cell_type": "code",
   "execution_count": 33,
   "metadata": {
    "collapsed": false
   },
   "outputs": [
    {
     "data": {
      "text/html": [
       "<ol class=list-inline>\n",
       "\t<li>'Placebo'</li>\n",
       "\t<li>'Treated'</li>\n",
       "</ol>\n"
      ],
      "text/latex": [
       "\\begin{enumerate*}\n",
       "\\item 'Placebo'\n",
       "\\item 'Treated'\n",
       "\\end{enumerate*}\n"
      ],
      "text/markdown": [
       "1. 'Placebo'\n",
       "2. 'Treated'\n",
       "\n",
       "\n"
      ],
      "text/plain": [
       "[1] \"Placebo\" \"Treated\""
      ]
     },
     "metadata": {},
     "output_type": "display_data"
    }
   ],
   "source": [
    "levels(df[,Treatment])"
   ]
  },
  {
   "cell_type": "markdown",
   "metadata": {},
   "source": [
    "## One-hot Encoding"
   ]
  },
  {
   "cell_type": "code",
   "execution_count": 38,
   "metadata": {
    "collapsed": true
   },
   "outputs": [],
   "source": [
    "?sparse.model.matrix "
   ]
  },
  {
   "cell_type": "code",
   "execution_count": 39,
   "metadata": {
    "collapsed": false
   },
   "outputs": [
    {
     "name": "stderr",
     "output_type": "stream",
     "text": [
      "   [[ suppressing 10 column names 'TreatmentPlacebo', 'TreatmentTreated', 'SexMale' ... ]]\n"
     ]
    },
    {
     "data": {
      "text/plain": [
       "6 x 10 sparse Matrix of class \"dgCMatrix\"\n",
       "                      \n",
       "1 . 1 1 27 1 . . . . 1\n",
       "2 . 1 1 29 1 . . . . 1\n",
       "3 . 1 1 30 1 . . . . 1\n",
       "4 . 1 1 32 1 . . . . .\n",
       "5 . 1 1 46 . . 1 . . .\n",
       "6 . 1 1 58 . . . 1 . ."
      ]
     },
     "metadata": {},
     "output_type": "display_data"
    }
   ],
   "source": [
    "# Exlcude Column Improved because it is the label column (Column to predict)\n",
    "sparse_matrix <- sparse.model.matrix(Improved~.-1, data = df)\n",
    "head(sparse_matrix)\n"
   ]
  },
  {
   "cell_type": "code",
   "execution_count": 40,
   "metadata": {
    "collapsed": false
   },
   "outputs": [
    {
     "name": "stdout",
     "output_type": "stream",
     "text": [
      "Formal class 'dgCMatrix' [package \"Matrix\"] with 6 slots\n",
      "  ..@ i       : int [1:282] 41 42 43 44 45 46 47 48 49 50 ...\n",
      "  ..@ p       : int [1:11] 0 43 84 109 193 203 211 226 261 275 ...\n",
      "  ..@ Dim     : int [1:2] 84 10\n",
      "  ..@ Dimnames:List of 2\n",
      "  .. ..$ : chr [1:84] \"1\" \"2\" \"3\" \"4\" ...\n",
      "  .. ..$ : chr [1:10] \"TreatmentPlacebo\" \"TreatmentTreated\" \"SexMale\" \"Age\" ...\n",
      "  ..@ x       : num [1:282] 1 1 1 1 1 1 1 1 1 1 ...\n",
      "  ..@ factors : list()\n"
     ]
    }
   ],
   "source": [
    "str(sparse_matrix)"
   ]
  },
  {
   "cell_type": "code",
   "execution_count": 41,
   "metadata": {
    "collapsed": true
   },
   "outputs": [],
   "source": [
    "output_vector = df[,Improved] == \"Marked\""
   ]
  },
  {
   "cell_type": "code",
   "execution_count": 42,
   "metadata": {
    "collapsed": false
   },
   "outputs": [
    {
     "name": "stdout",
     "output_type": "stream",
     "text": [
      "[0]\ttrain-error:0.202381\n",
      "[1]\ttrain-error:0.166667\n",
      "[2]\ttrain-error:0.166667\n",
      "[3]\ttrain-error:0.166667\n",
      "[4]\ttrain-error:0.154762\n",
      "[5]\ttrain-error:0.154762\n",
      "[6]\ttrain-error:0.154762\n",
      "[7]\ttrain-error:0.166667\n",
      "[8]\ttrain-error:0.166667\n",
      "[9]\ttrain-error:0.166667\n"
     ]
    }
   ],
   "source": [
    "# Train the model\n",
    "bst <- xgboost(data = sparse_matrix, label = output_vector, max_depth = 4,\n",
    "               eta = 1, nthread = 2, nrounds = 10,objective = \"binary:logistic\")"
   ]
  },
  {
   "cell_type": "code",
   "execution_count": 43,
   "metadata": {
    "collapsed": false
   },
   "outputs": [
    {
     "data": {
      "text/plain": [
       "$handle\n",
       "<pointer: 0xa0f6970>\n",
       "attr(,\"class\")\n",
       "[1] \"xgb.Booster.handle\"\n",
       "\n",
       "$raw\n",
       "   [1] 00 00 00 80 0a 00 00 00 00 00 00 00 00 00 00 00 00 00 00 00 00 00 00 00\n",
       "  [25] 00 00 00 00 00 00 00 00 00 00 00 00 00 00 00 00 00 00 00 00 00 00 00 00\n",
       "  [49] 00 00 00 00 00 00 00 00 00 00 00 00 00 00 00 00 00 00 00 00 00 00 00 00\n",
       "  [73] 00 00 00 00 00 00 00 00 00 00 00 00 00 00 00 00 00 00 00 00 00 00 00 00\n",
       "  [97] 00 00 00 00 00 00 00 00 00 00 00 00 00 00 00 00 00 00 00 00 00 00 00 00\n",
       " [121] 00 00 00 00 00 00 00 00 00 00 00 00 00 00 00 00 0f 00 00 00 00 00 00 00\n",
       " [145] 62 69 6e 61 72 79 3a 6c 6f 67 69 73 74 69 63 06 00 00 00 00 00 00 00 67\n",
       " [169] 62 74 72 65 65 0a 00 00 00 00 00 00 00 0a 00 00 00 00 00 00 00 00 00 00\n",
       " [193] 00 00 00 00 00 01 00 00 00 00 00 00 00 00 00 00 00 00 00 00 00 00 00 00\n",
       " [217] 00 00 00 00 00 00 00 00 00 00 00 00 00 00 00 00 00 00 00 00 00 00 00 00\n",
       " [241] 00 00 00 00 00 00 00 00 00 00 00 00 00 00 00 00 00 00 00 00 00 00 00 00\n",
       " [265] 00 00 00 00 00 00 00 00 00 00 00 00 00 00 00 00 00 00 00 00 00 00 00 00\n",
       " [289] 00 00 00 00 00 00 00 00 00 00 00 00 00 00 00 00 00 00 00 00 00 00 00 00\n",
       " [313] 00 00 00 00 00 00 00 00 00 00 00 00 00 00 00 00 00 00 00 00 00 01 00 00\n",
       " [337] 00 0f 00 00 00 00 00 00 00 00 00 00 00 0a 00 00 00 00 00 00 00 00 00 00\n",
       " [361] 00 00 00 00 00 00 00 00 00 00 00 00 00 00 00 00 00 00 00 00 00 00 00 00\n",
       " [385] 00 00 00 00 00 00 00 00 00 00 00 00 00 00 00 00 00 00 00 00 00 00 00 00\n",
       " [409] 00 00 00 00 00 00 00 00 00 00 00 00 00 00 00 00 00 00 00 00 00 00 00 00\n",
       " [433] 00 00 00 00 00 00 00 00 00 00 00 00 00 00 00 00 00 00 00 00 00 00 00 00\n",
       " [457] 00 00 00 00 00 00 00 00 00 00 00 00 00 00 00 00 00 00 00 00 00 00 00 00\n",
       " [481] 00 ff ff ff ff 01 00 00 00 02 00 00 00 00 00 00 80 00 00 28 b7 00 00 00\n",
       " [505] 80 03 00 00 00 04 00 00 00 03 00 00 80 00 00 1c 42 00 00 00 00 05 00 00\n",
       " [529] 00 06 00 00 00 03 00 00 80 00 00 7a 42 01 00 00 80 ff ff ff ff ff ff ff\n",
       " [553] ff 00 00 00 00 2f ba 68 bf 01 00 00 00 07 00 00 00 08 00 00 00 03 00 00\n",
       " [577] 80 00 00 76 42 02 00 00 80 ff ff ff ff ff ff ff ff 00 00 00 00 6c 28 af\n",
       " [601] bf 02 00 00 00 09 00 00 00 0a 00 00 00 03 00 00 80 00 00 83 42 04 00 00\n",
       " [625] 80 0b 00 00 00 0c 00 00 00 03 00 00 80 00 00 4e 42 04 00 00 00 0d 00 00\n",
       " [649] 00 0e 00 00 00 02 00 00 80 00 00 28 b7 06 00 00 80 ff ff ff ff ff ff ff\n",
       " [673] ff 00 00 00 00 00 00 00 80 06 00 00 00 ff ff ff ff ff ff ff ff 00 00 00\n",
       " [697] 00 ab aa 2a bf 07 00 00 80 ff ff ff ff ff ff ff ff 00 00 00 00 39 8e 63\n",
       " [721] 3e 07 00 00 00 ff ff ff ff ff ff ff ff 00 00 00 00 e4 38 8e 3f 08 00 00\n",
       " [745] 80 ff ff ff ff ff ff ff ff 00 00 00 00 d9 89 1d be 08 00 00 00 ff ff ff\n",
       " [769] ff ff ff ff ff 00 00 00 00 cd cc 4c bf a4 1b 10 41 00 00 a8 41 ba e8 22\n",
       " [793] bf 00 00 00 00 f5 a9 4c 40 00 00 24 41 61 0b 36 3d 01 00 00 00 e6 91 16\n",
       " [817] 3f 00 00 2c 41 1b f5 9d bf 01 00 00 00 00 00 00 00 00 00 e0 3f 2f ba 68\n",
       " [841] bf 00 00 00 00 26 23 b4 40 00 00 08 41 28 af a1 3e 00 00 00 00 00 00 00\n",
       " [865] 00 00 00 08 41 6c 28 af bf 00 00 00 00 d8 89 9d 3e 00 00 10 40 c5 4e ec\n",
       " [889] be 02 00 00 00 a5 c4 cf 3e 00 00 98 40 9c de 74 3f 02 00 00 00 81 e6 b8\n",
       " [913] 3e 00 00 70 40 a2 bc 06 bf 02 00 00 00 00 00 00 00 00 00 80 3f 00 00 00\n",
       " [937] 80 00 00 00 00 00 00 00 00 00 00 a0 3f ab aa 2a bf 00 00 00 00 00 00 00\n",
       " [961] 00 00 00 a0 3f 39 8e 63 3e 00 00 00 00 00 00 00 00 00 00 60 40 e4 38 8e\n",
       " [985] 3f 00 00 00 00 00 00 00 00 00 00 10 40 d9 89 1d be 00 00 00 00 00 00 00\n",
       "[1009] 00 00 00 c0 3f cd cc 4c bf 00 00 00 00 01 00 00 00 0f 00 00 00 00 00 00\n",
       "[1033] 00 00 00 00 00 0a 00 00 00 00 00 00 00 00 00 00 00 00 00 00 00 00 00 00\n",
       "[1057] 00 00 00 00 00 00 00 00 00 00 00 00 00 00 00 00 00 00 00 00 00 00 00 00\n",
       "[1081] 00 00 00 00 00 00 00 00 00 00 00 00 00 00 00 00 00 00 00 00 00 00 00 00\n",
       "[1105] 00 00 00 00 00 00 00 00 00 00 00 00 00 00 00 00 00 00 00 00 00 00 00 00\n",
       "[1129] 00 00 00 00 00 00 00 00 00 00 00 00 00 00 00 00 00 00 00 00 00 00 00 00\n",
       "[1153] 00 00 00 00 00 00 00 00 00 00 00 00 00 00 00 00 00 ff ff ff ff 01 00 00\n",
       "[1177] 00 02 00 00 00 03 00 00 80 00 00 56 42 00 00 00 80 03 00 00 00 04 00 00\n",
       "[1201] 00 00 00 00 80 00 00 28 b7 00 00 00 00 05 00 00 00 06 00 00 00 03 00 00\n",
       "[1225] 80 00 00 66 42 01 00 00 80 07 00 00 00 08 00 00 00 02 00 00 80 00 00 28\n",
       "[1249] b7 01 00 00 00 ff ff ff ff ff ff ff ff 00 00 00 00 ce d9 38 bf 02 00 00\n",
       "[1273] 80 ff ff ff ff ff ff ff ff 00 00 00 00 ce 10 3c 3f 02 00 00 00 09 00 00\n",
       "[1297] 00 0a 00 00 00 03 00 00 80 00 00 81 42 03 00 00 80 ff ff ff ff ff ff ff\n",
       "[1321] ff 00 00 00 00 69 16 d5 be 03 00 00 00 ff ff ff ff ff ff ff ff 00 00 00\n",
       "[1345] 00 d3 b0 12 3e 06 00 00 80 0b 00 00 00 0c 00 00 00 03 00 00 80 00 00 76\n",
       "[1369] 42 06 00 00 00 0d 00 00 00 0e 00 00 00 03 00 00 80 00 00 87 42 09 00 00\n",
       "[1393] 80 ff ff ff ff ff ff ff ff 00 00 00 00 2c 9e 8b bd 09 00 00 00 ff ff ff\n",
       "[1417] ff ff ff ff ff 00 00 00 00 05 9a 1a bf 0a 00 00 80 ff ff ff ff ff ff ff\n",
       "[1441] ff 00 00 00 00 69 99 6c 3e 0a 00 00 00 ff ff ff ff ff ff ff ff 00 00 00\n",
       "[1465] 00 c0 2b 47 be 82 c1 a0 3f 21 53 83 41 c8 f9 66 be 00 00 00 00 eb dc 70\n",
       "[1489] 3e 30 dd bc 40 d3 97 0e bf 01 00 00 00 ce 35 10 40 a9 37 28 41 35 a8 ee\n",
       "[1513] bb 01 00 00 00 42 00 a6 3e 06 bb 2a 40 24 b6 5b be 02 00 00 00 00 00 00\n",
       "[1537] 00 5a ff 4e 40 ce d9 38 bf 00 00 00 00 00 00 00 00 0a a6 05 40 ce 10 3c\n",
       "[1561] 3f 00 00 00 00 34 b0 a1 3e 26 ce 06 41 e0 97 7f be 00 00 00 00 00 00 00\n",
       "[1585] 00 97 0a cd 3f 69 16 d5 be 00 00 00 00 00 00 00 00 75 6b 88 3f d3 b0 12\n",
       "[1609] 3e 00 00 00 00 78 ea b9 3e 9d 62 9c 40 26 78 c8 be 02 00 00 00 b3 93 7c\n",
       "[1633] 3e 60 73 62 40 93 ba 2b bc 02 00 00 00 00 00 00 00 96 7f 1d 40 2c 9e 8b\n",
       "[1657] bd 00 00 00 00 00 00 00 00 a4 45 1b 40 05 9a 1a bf 00 00 00 00 00 00 00\n",
       "[1681] 00 00 b3 b5 3f 69 99 6c 3e 00 00 00 00 00 00 00 00 e0 99 07 40 c0 2b 47\n",
       "[1705] be 00 00 00 00 01 00 00 00 0f 00 00 00 00 00 00 00 00 00 00 00 0a 00 00\n",
       "[1729] 00 00 00 00 00 00 00 00 00 00 00 00 00 00 00 00 00 00 00 00 00 00 00 00\n",
       "[1753] 00 00 00 00 00 00 00 00 00 00 00 00 00 00 00 00 00 00 00 00 00 00 00 00\n",
       "[1777] 00 00 00 00 00 00 00 00 00 00 00 00 00 00 00 00 00 00 00 00 00 00 00 00\n",
       "[1801] 00 00 00 00 00 00 00 00 00 00 00 00 00 00 00 00 00 00 00 00 00 00 00 00\n",
       "[1825] 00 00 00 00 00 00 00 00 00 00 00 00 00 00 00 00 00 00 00 00 00 00 00 00\n",
       "[1849] 00 00 00 00 00 00 00 00 00 ff ff ff ff 01 00 00 00 02 00 00 00 03 00 00\n",
       "[1873] 80 00 00 fc 41 00 00 00 80 ff ff ff ff ff ff ff ff 00 00 00 00 78 cd 39\n",
       "[1897] bf 00 00 00 00 03 00 00 00 04 00 00 00 00 00 00 80 00 00 28 b7 02 00 00\n",
       "[1921] 80 05 00 00 00 06 00 00 00 03 00 00 80 00 00 89 42 02 00 00 00 07 00 00\n",
       "[1945] 00 08 00 00 00 07 00 00 80 00 00 28 b7 03 00 00 80 09 00 00 00 0a 00 00\n",
       "[1969] 00 07 00 00 80 00 00 28 b7 03 00 00 00 ff ff ff ff ff ff ff ff 00 00 00\n",
       "[1993] 00 25 8b bc be 04 00 00 80 0b 00 00 00 0c 00 00 00 03 00 00 80 00 00 4a\n",
       "[2017] 42 04 00 00 00 0d 00 00 00 0e 00 00 00 03 00 00 80 00 00 76 42 05 00 00\n",
       "[2041] 80 ff ff ff ff ff ff ff ff 00 00 00 00 95 f3 07 3f 05 00 00 00 ff ff ff\n",
       "[2065] ff ff ff ff ff 00 00 00 00 60 ce e1 3d 07 00 00 80 ff ff ff ff ff ff ff\n",
       "[2089] ff 00 00 00 00 a8 51 cf bd 07 00 00 00 ff ff ff ff ff ff ff ff 00 00 00\n",
       "[2113] 00 75 45 d3 be 08 00 00 80 ff ff ff ff ff ff ff ff 00 00 00 00 bc ef 96\n",
       "[2137] bd 08 00 00 00 ff ff ff ff ff ff ff ff 00 00 00 00 79 87 83 3d a0 78 81\n",
       "[2161] 3f 1f c1 68 41 ae 46 ca bd 01 00 00 00 00 00 00 00 12 8f 9a 3f 78 cd 39\n",
       "[2185] bf 00 00 00 00 5e 7c 38 3f 3c 6f 55 41 41 3e 98 3b 00 00 00 00 3f a3 4d\n",
       "[2209] 3f ac 7f e6 40 1c 78 53 3e 01 00 00 00 3a 45 47 3e cc 5e c4 40 26 83 69\n",
       "[2233] be 00 00 00 00 9b f9 7e 3e e4 98 c2 40 3f fc b2 3e 02 00 00 00 00 00 00\n",
       "[2257] 00 20 9b 8f 3f 25 8b bc be 00 00 00 00 a6 a6 98 3c ef 46 58 40 2f e4 b7\n",
       "[2281] be 02 00 00 00 c9 35 b6 3c aa 76 30 40 05 c6 6d bc 02 00 00 00 00 00 00\n",
       "[2305] 00 fe f9 30 40 95 f3 07 3f 00 00 00 00 00 00 00 00 cb 37 54 40 60 ce e1\n",
       "[2329] 3d 00 00 00 00 00 00 00 00 a5 de 89 3f a8 51 cf bd 00 00 00 00 00 00 00\n",
       "[2353] 00 9c 57 13 40 75 45 d3 be 00 00 00 00 00 00 00 00 2d 26 ce 3f bc ef 96\n",
       "[2377] bd 00 00 00 00 00 00 00 00 27 c7 92 3f 79 87 83 3d 00 00 00 00 01 00 00\n",
       "[2401] 00 0b 00 00 00 00 00 00 00 00 00 00 00 0a 00 00 00 00 00 00 00 00 00 00\n",
       "[2425] 00 00 00 00 00 00 00 00 00 00 00 00 00 00 00 00 00 00 00 00 00 00 00 00\n",
       "[2449] 00 00 00 00 00 00 00 00 00 00 00 00 00 00 00 00 00 00 00 00 00 00 00 00\n",
       "[2473] 00 00 00 00 00 00 00 00 00 00 00 00 00 00 00 00 00 00 00 00 00 00 00 00\n",
       "[2497] 00 00 00 00 00 00 00 00 00 00 00 00 00 00 00 00 00 00 00 00 00 00 00 00\n",
       "[2521] 00 00 00 00 00 00 00 00 00 00 00 00 00 00 00 00 00 00 00 00 00 00 00 00\n",
       "[2545] 00 ff ff ff ff 01 00 00 00 02 00 00 00 05 00 00 80 00 00 28 b7 00 00 00\n",
       "[2569] 80 03 00 00 00 04 00 00 00 03 00 00 80 00 00 02 42 00 00 00 00 ff ff ff\n",
       "[2593] ff ff ff ff ff 00 00 00 00 b4 48 e9 be 01 00 00 80 ff ff ff ff ff ff ff\n",
       "[2617] ff 00 00 00 00 f0 8e a4 be 01 00 00 00 05 00 00 00 06 00 00 00 03 00 00\n",
       "[2641] 80 00 00 62 42 04 00 00 80 07 00 00 00 08 00 00 00 03 00 00 80 00 00 56\n",
       "[2665] 42 04 00 00 00 09 00 00 00 0a 00 00 00 03 00 00 80 00 00 6a 42 05 00 00\n",
       "[2689] 80 ff ff ff ff ff ff ff ff 00 00 00 00 bc dd c6 3d 05 00 00 00 ff ff ff\n",
       "[2713] ff ff ff ff ff 00 00 00 00 97 17 18 3f 06 00 00 80 ff ff ff ff ff ff ff\n",
       "[2737] ff 00 00 00 00 57 2a de be 06 00 00 00 ff ff ff ff ff ff ff ff 00 00 00\n",
       "[2761] 00 fe 2a 03 bc 7a 5a ae 3e 36 79 56 41 58 44 b5 bd 01 00 00 00 9f 92 7f\n",
       "[2785] 3e e4 08 44 41 1e e1 b5 bc 01 00 00 00 00 00 00 00 93 82 93 3f b4 48 e9\n",
       "[2809] be 00 00 00 00 00 00 00 00 65 58 a8 3f f0 8e a4 be 00 00 00 00 8e 3f 3a\n",
       "[2833] 3f d7 fd 2e 41 31 5f 1a 3d 00 00 00 00 a3 70 17 3e eb 81 27 40 93 de d4\n",
       "[2857] 3e 02 00 00 00 1c 1a 9f 3e 5d 1d 05 41 8b a0 e7 bd 02 00 00 00 00 00 00\n",
       "[2881] 00 c6 28 bf 3f bc dd c6 3d 00 00 00 00 00 00 00 00 10 db 8f 3f 97 17 18\n",
       "[2905] 3f 00 00 00 00 00 00 00 00 23 f2 a3 3f 57 2a de be 00 00 00 00 00 00 00\n",
       "[2929] 00 30 3e e1 40 fe 2a 03 bc 00 00 00 00 01 00 00 00 0b 00 00 00 00 00 00\n",
       "[2953] 00 00 00 00 00 0a 00 00 00 00 00 00 00 00 00 00 00 00 00 00 00 00 00 00\n",
       "[2977] 00 00 00 00 00 00 00 00 00 00 00 00 00 00 00 00 00 00 00 00 00 00 00 00\n",
       "[3001] 00 00 00 00 00 00 00 00 00 00 00 00 00 00 00 00 00 00 00 00 00 00 00 00\n",
       "[3025] 00 00 00 00 00 00 00 00 00 00 00 00 00 00 00 00 00 00 00 00 00 00 00 00\n",
       "[3049] 00 00 00 00 00 00 00 00 00 00 00 00 00 00 00 00 00 00 00 00 00 00 00 00\n",
       "[3073] 00 00 00 00 00 00 00 00 00 00 00 00 00 00 00 00 00 ff ff ff ff 01 00 00\n",
       "[3097] 00 02 00 00 00 04 00 00 80 00 00 28 b7 00 00 00 80 03 00 00 00 04 00 00\n",
       "[3121] 00 03 00 00 80 00 00 5a 42 00 00 00 00 ff ff ff ff ff ff ff ff 00 00 00\n",
       "[3145] 00 13 3d a3 3e 01 00 00 80 05 00 00 00 06 00 00 00 00 00 00 80 00 00 28\n",
       "[3169] b7 01 00 00 00 07 00 00 00 08 00 00 00 03 00 00 80 00 00 66 42 03 00 00\n",
       "[3193] 80 ff ff ff ff ff ff ff ff 00 00 00 00 b4 8e a2 bd 03 00 00 00 ff ff ff\n",
       "[3217] ff ff ff ff ff 00 00 00 00 dd 7f fb be 04 00 00 80 ff ff ff ff ff ff ff\n",
       "[3241] ff 00 00 00 00 03 16 b5 3e 04 00 00 00 09 00 00 00 0a 00 00 00 03 00 00\n",
       "[3265] 80 00 00 85 42 08 00 00 80 ff ff ff ff ff ff ff ff 00 00 00 00 f5 51 11\n",
       "[3289] be 08 00 00 00 ff ff ff ff ff ff ff ff 00 00 00 00 27 b5 16 3e 77 a8 9c\n",
       "[3313] 3e cb 83 52 41 33 b1 2e bd 01 00 00 00 ad 9f f4 3e 4f 76 41 41 eb 7d c5\n",
       "[3337] bd 00 00 00 00 00 00 00 00 e0 6b 88 3f 13 3d a3 3e 00 00 00 00 e7 0b e0\n",
       "[3361] 3d 5f 54 50 40 93 7f be be 02 00 00 00 45 f6 98 3e 37 61 0d 41 0e 94 05\n",
       "[3385] 3d 01 00 00 00 00 00 00 00 d9 3c b6 3f b4 8e a2 bd 00 00 00 00 00 00 00\n",
       "[3409] 00 e5 6b ea 3f dd 7f fb be 00 00 00 00 00 00 00 00 79 21 a1 3f 03 16 b5\n",
       "[3433] 3e 00 00 00 00 fb f7 2e 3e 10 7a f2 40 48 53 64 bd 02 00 00 00 00 00 00\n",
       "[3457] 00 f9 f3 b0 40 f5 51 11 be 00 00 00 00 00 00 00 00 30 0c 03 40 27 b5 16\n",
       "[3481] 3e 00 00 00 00 01 00 00 00 0b 00 00 00 00 00 00 00 00 00 00 00 0a 00 00\n",
       "[3505] 00 00 00 00 00 00 00 00 00 00 00 00 00 00 00 00 00 00 00 00 00 00 00 00\n",
       "[3529] 00 00 00 00 00 00 00 00 00 00 00 00 00 00 00 00 00 00 00 00 00 00 00 00\n",
       "[3553] 00 00 00 00 00 00 00 00 00 00 00 00 00 00 00 00 00 00 00 00 00 00 00 00\n",
       "[3577] 00 00 00 00 00 00 00 00 00 00 00 00 00 00 00 00 00 00 00 00 00 00 00 00\n",
       "[3601] 00 00 00 00 00 00 00 00 00 00 00 00 00 00 00 00 00 00 00 00 00 00 00 00\n",
       "[3625] 00 00 00 00 00 00 00 00 00 ff ff ff ff 01 00 00 00 02 00 00 00 03 00 00\n",
       "[3649] 80 00 00 02 42 00 00 00 80 ff ff ff ff ff ff ff ff 00 00 00 00 a8 48 99\n",
       "[3673] be 00 00 00 00 03 00 00 00 04 00 00 00 03 00 00 80 00 00 3c 42 02 00 00\n",
       "[3697] 80 ff ff ff ff ff ff ff ff 00 00 00 00 4e 18 ab 3e 02 00 00 00 05 00 00\n",
       "[3721] 00 06 00 00 00 07 00 00 80 00 00 28 b7 04 00 00 80 07 00 00 00 08 00 00\n",
       "[3745] 00 03 00 00 80 00 00 89 42 04 00 00 00 09 00 00 00 0a 00 00 00 02 00 00\n",
       "[3769] 80 00 00 28 b7 05 00 00 80 ff ff ff ff ff ff ff ff 00 00 00 00 69 7a 6e\n",
       "[3793] be 05 00 00 00 ff ff ff ff ff ff ff ff 00 00 00 00 17 9e cd 3d 06 00 00\n",
       "[3817] 80 ff ff ff ff ff ff ff ff 00 00 00 00 9b ae 93 3e 06 00 00 00 ff ff ff\n",
       "[3841] ff ff ff ff ff 00 00 00 00 40 92 82 be ff 25 6f 3e bd a3 4b 41 e0 67 70\n",
       "[3865] bb 01 00 00 00 00 00 00 00 5a f9 a0 3f a8 48 99 be 00 00 00 00 6f f9 62\n",
       "[3889] 3e 92 84 37 41 40 78 4d 3d 01 00 00 00 00 00 00 00 4c 61 a0 3f 4e 18 ab\n",
       "[3913] 3e 00 00 00 00 2c 54 2a 3e 68 78 23 41 b0 00 3a bc 00 00 00 00 0a 39 15\n",
       "[3937] 3e c0 3c 8f 40 25 49 0f be 02 00 00 00 a4 ba 07 3f 10 b4 b7 40 ed 1e c2\n",
       "[3961] 3d 02 00 00 00 00 00 00 00 b0 ff 4f 40 69 7a 6e be 00 00 00 00 00 00 00\n",
       "[3985] 00 a0 f3 9c 3f 17 9e cd 3d 00 00 00 00 00 00 00 00 83 b6 73 40 9b ae 93\n",
       "[4009] 3e 00 00 00 00 00 00 00 00 3a 63 f7 3f 40 92 82 be 00 00 00 00 01 00 00\n",
       "[4033] 00 0b 00 00 00 00 00 00 00 00 00 00 00 0a 00 00 00 00 00 00 00 00 00 00\n",
       "[4057] 00 00 00 00 00 00 00 00 00 00 00 00 00 00 00 00 00 00 00 00 00 00 00 00\n",
       "[4081] 00 00 00 00 00 00 00 00 00 00 00 00 00 00 00 00 00 00 00 00 00 00 00 00\n",
       "[4105] 00 00 00 00 00 00 00 00 00 00 00 00 00 00 00 00 00 00 00 00 00 00 00 00\n",
       "[4129] 00 00 00 00 00 00 00 00 00 00 00 00 00 00 00 00 00 00 00 00 00 00 00 00\n",
       "[4153] 00 00 00 00 00 00 00 00 00 00 00 00 00 00 00 00 00 00 00 00 00 00 00 00\n",
       "[4177] 00 ff ff ff ff 01 00 00 00 02 00 00 00 04 00 00 80 00 00 28 b7 00 00 00\n",
       "[4201] 80 03 00 00 00 04 00 00 00 03 00 00 80 00 00 56 42 00 00 00 00 ff ff ff\n",
       "[4225] ff ff ff ff ff 00 00 00 00 24 dd 85 3e 01 00 00 80 ff ff ff ff ff ff ff\n",
       "[4249] ff 00 00 00 00 d7 7c a4 be 01 00 00 00 05 00 00 00 06 00 00 00 03 00 00\n",
       "[4273] 80 00 00 7a 42 04 00 00 80 07 00 00 00 08 00 00 00 02 00 00 80 00 00 28\n",
       "[4297] b7 04 00 00 00 09 00 00 00 0a 00 00 00 02 00 00 80 00 00 28 b7 05 00 00\n",
       "[4321] 80 ff ff ff ff ff ff ff ff 00 00 00 00 04 8d 5d 3e 05 00 00 00 ff ff ff\n",
       "[4345] ff ff ff ff ff 00 00 00 00 c4 6e 39 be 06 00 00 80 ff ff ff ff ff ff ff\n",
       "[4369] ff 00 00 00 00 dc 7a 5d be 06 00 00 00 ff ff ff ff ff ff ff ff 00 00 00\n",
       "[4393] 00 7f 3b 95 3e 17 0e 3e 3e 65 60 45 41 dc 55 3c bc 01 00 00 00 fb 43 96\n",
       "[4417] 3e 4e 3a 33 41 3a c8 6e bd 01 00 00 00 00 00 00 00 bc 30 91 3f 24 dd 85\n",
       "[4441] 3e 00 00 00 00 00 00 00 00 e7 09 0a 40 d7 7c a4 be 00 00 00 00 b7 67 9e\n",
       "[4465] 3d d4 b7 10 41 83 00 f7 3c 00 00 00 00 b3 34 5c 3e 32 2f 95 40 e7 27 e0\n",
       "[4489] 3d 02 00 00 00 ee 46 b8 3e 76 40 8c 40 d3 18 71 bd 02 00 00 00 00 00 00\n",
       "[4513] 00 83 0e 66 40 04 8d 5d 3e 00 00 00 00 00 00 00 00 c1 9f 88 3f c4 6e 39\n",
       "[4537] be 00 00 00 00 00 00 00 00 2f 6e 52 40 dc 7a 5d be 00 00 00 00 00 00 00\n",
       "[4561] 00 7a 25 8c 3f 7f 3b 95 3e 00 00 00 00 01 00 00 00 0f 00 00 00 00 00 00\n",
       "[4585] 00 00 00 00 00 0a 00 00 00 00 00 00 00 00 00 00 00 00 00 00 00 00 00 00\n",
       "[4609] 00 00 00 00 00 00 00 00 00 00 00 00 00 00 00 00 00 00 00 00 00 00 00 00\n",
       "[4633] 00 00 00 00 00 00 00 00 00 00 00 00 00 00 00 00 00 00 00 00 00 00 00 00\n",
       "[4657] 00 00 00 00 00 00 00 00 00 00 00 00 00 00 00 00 00 00 00 00 00 00 00 00\n",
       "[4681] 00 00 00 00 00 00 00 00 00 00 00 00 00 00 00 00 00 00 00 00 00 00 00 00\n",
       "[4705] 00 00 00 00 00 00 00 00 00 00 00 00 00 00 00 00 00 ff ff ff ff 01 00 00\n",
       "[4729] 00 02 00 00 00 03 00 00 80 00 00 81 42 00 00 00 80 03 00 00 00 04 00 00\n",
       "[4753] 00 03 00 00 80 00 00 62 42 00 00 00 00 05 00 00 00 06 00 00 00 03 00 00\n",
       "[4777] 80 00 00 87 42 01 00 00 80 07 00 00 00 08 00 00 00 03 00 00 80 00 00 02\n",
       "[4801] 42 01 00 00 00 09 00 00 00 0a 00 00 00 03 00 00 80 00 00 6a 42 02 00 00\n",
       "[4825] 80 ff ff ff ff ff ff ff ff 00 00 00 00 d2 71 b9 3e 02 00 00 00 ff ff ff\n",
       "[4849] ff ff ff ff ff 00 00 00 00 e7 63 b5 3c 03 00 00 80 ff ff ff ff ff ff ff\n",
       "[4873] ff 00 00 00 00 e0 ba 88 be 03 00 00 00 0b 00 00 00 0c 00 00 00 06 00 00\n",
       "[4897] 80 00 00 28 b7 04 00 00 80 ff ff ff ff ff ff ff ff 00 00 00 00 a1 60 eb\n",
       "[4921] be 04 00 00 00 0d 00 00 00 0e 00 00 00 03 00 00 80 00 00 72 42 08 00 00\n",
       "[4945] 80 ff ff ff ff ff ff ff ff 00 00 00 00 a1 8c b9 3e 08 00 00 00 ff ff ff\n",
       "[4969] ff ff ff ff ff 00 00 00 00 eb 15 9e 3d 0a 00 00 80 ff ff ff ff ff ff ff\n",
       "[4993] ff 00 00 00 00 93 7a 6c 3e 0a 00 00 00 ff ff ff ff ff ff ff ff 00 00 00\n",
       "[5017] 00 b4 0a 8c be 47 6b 86 3e f8 3c 45 41 0e 2f 77 bb 00 00 00 00 67 89 8e\n",
       "[5041] 3e 84 8c 13 41 1f e3 b6 bd 00 00 00 00 32 f3 df 3d d2 c1 46 40 01 22 57\n",
       "[5065] 3e 02 00 00 00 04 79 c9 3e 27 c6 85 40 a4 45 ba 3d 01 00 00 00 1b 70 44\n",
       "[5089] 3e e1 52 a1 40 56 95 6a be 01 00 00 00 00 00 00 00 1e 1e 9a 3f d2 71 b9\n",
       "[5113] 3e 00 00 00 00 00 00 00 00 86 65 f3 3f e7 63 b5 3c 00 00 00 00 00 00 00\n",
       "[5137] 00 76 a4 98 3f e0 ba 88 be 00 00 00 00 ab 43 38 3d 13 3a 3f 40 8a aa 87\n",
       "[5161] 3e 02 00 00 00 00 00 00 00 3e a5 a6 3f a1 60 eb be 00 00 00 00 ca 41 b5\n",
       "[5185] 3e 23 53 6f 40 d6 c2 8c bd 02 00 00 00 00 00 00 00 bb 70 ad 3f a1 8c b9\n",
       "[5209] 3e 00 00 00 00 00 00 00 00 6b 03 d1 3f eb 15 9e 3d 00 00 00 00 00 00 00\n",
       "[5233] 00 5c ad bb 3f 93 7a 6c 3e 00 00 00 00 00 00 00 00 75 7c 11 40 b4 0a 8c\n",
       "[5257] be 00 00 00 00 01 00 00 00 0b 00 00 00 00 00 00 00 00 00 00 00 0a 00 00\n",
       "[5281] 00 00 00 00 00 00 00 00 00 00 00 00 00 00 00 00 00 00 00 00 00 00 00 00\n",
       "[5305] 00 00 00 00 00 00 00 00 00 00 00 00 00 00 00 00 00 00 00 00 00 00 00 00\n",
       "[5329] 00 00 00 00 00 00 00 00 00 00 00 00 00 00 00 00 00 00 00 00 00 00 00 00\n",
       "[5353] 00 00 00 00 00 00 00 00 00 00 00 00 00 00 00 00 00 00 00 00 00 00 00 00\n",
       "[5377] 00 00 00 00 00 00 00 00 00 00 00 00 00 00 00 00 00 00 00 00 00 00 00 00\n",
       "[5401] 00 00 00 00 00 00 00 00 00 ff ff ff ff 01 00 00 00 02 00 00 00 04 00 00\n",
       "[5425] 80 00 00 28 b7 00 00 00 80 03 00 00 00 04 00 00 00 03 00 00 80 00 00 36\n",
       "[5449] 42 00 00 00 00 ff ff ff ff ff ff ff ff 00 00 00 00 f3 d9 51 3e 01 00 00\n",
       "[5473] 80 ff ff ff ff ff ff ff ff 00 00 00 00 93 8f b3 be 01 00 00 00 05 00 00\n",
       "[5497] 00 06 00 00 00 00 00 00 80 00 00 28 b7 04 00 00 80 07 00 00 00 08 00 00\n",
       "[5521] 00 03 00 00 80 00 00 89 42 04 00 00 00 09 00 00 00 0a 00 00 00 03 00 00\n",
       "[5545] 80 00 00 7a 42 05 00 00 80 ff ff ff ff ff ff ff ff 00 00 00 00 27 ff 86\n",
       "[5569] 3e 05 00 00 00 ff ff ff ff ff ff ff ff 00 00 00 00 3c ed 99 be 06 00 00\n",
       "[5593] 80 ff ff ff ff ff ff ff ff 00 00 00 00 68 69 81 be 06 00 00 00 ff ff ff\n",
       "[5617] ff ff ff ff ff 00 00 00 00 44 17 fc 3d f5 09 e1 3d 44 75 42 41 d3 ca 97\n",
       "[5641] ba 01 00 00 00 33 8f 71 3e 15 70 2f 41 00 c5 1e bd 01 00 00 00 00 00 00\n",
       "[5665] 00 75 29 98 3f f3 d9 51 3e 00 00 00 00 00 00 00 00 c4 85 82 3f 93 8f b3\n",
       "[5689] be 00 00 00 00 4e aa 22 3e 5d 1f 1f 41 c9 06 b7 3c 00 00 00 00 6c c9 f0\n",
       "[5713] 3e c0 51 b3 40 13 a3 fe 3d 02 00 00 00 0f dc 56 3e f9 ec 8a 40 a8 0d dd\n",
       "[5737] bd 02 00 00 00 00 00 00 00 f6 30 90 40 27 ff 86 3e 00 00 00 00 00 00 00\n",
       "[5761] 00 2b 83 8c 3f 3c ed 99 be 00 00 00 00 00 00 00 00 12 17 27 40 68 69 81\n",
       "[5785] be 00 00 00 00 00 00 00 00 c0 85 dd 3f 44 17 fc 3d 00 00 00 00 01 00 00\n",
       "[5809] 00 0b 00 00 00 00 00 00 00 00 00 00 00 0a 00 00 00 00 00 00 00 00 00 00\n",
       "[5833] 00 00 00 00 00 00 00 00 00 00 00 00 00 00 00 00 00 00 00 00 00 00 00 00\n",
       "[5857] 00 00 00 00 00 00 00 00 00 00 00 00 00 00 00 00 00 00 00 00 00 00 00 00\n",
       "[5881] 00 00 00 00 00 00 00 00 00 00 00 00 00 00 00 00 00 00 00 00 00 00 00 00\n",
       "[5905] 00 00 00 00 00 00 00 00 00 00 00 00 00 00 00 00 00 00 00 00 00 00 00 00\n",
       "[5929] 00 00 00 00 00 00 00 00 00 00 00 00 00 00 00 00 00 00 00 00 00 00 00 00\n",
       "[5953] 00 ff ff ff ff 01 00 00 00 02 00 00 00 03 00 00 80 00 00 89 42 00 00 00\n",
       "[5977] 80 03 00 00 00 04 00 00 00 03 00 00 80 00 00 7e 42 00 00 00 00 ff ff ff\n",
       "[6001] ff ff ff ff ff 00 00 00 00 3a 15 4d 3e 01 00 00 80 05 00 00 00 06 00 00\n",
       "[6025] 00 03 00 00 80 00 00 02 42 01 00 00 00 07 00 00 00 08 00 00 00 00 00 00\n",
       "[6049] 80 00 00 28 b7 03 00 00 80 ff ff ff ff ff ff ff ff 00 00 00 00 52 73 6b\n",
       "[6073] be 03 00 00 00 09 00 00 00 0a 00 00 00 03 00 00 80 00 00 62 42 04 00 00\n",
       "[6097] 80 ff ff ff ff ff ff ff ff 00 00 00 00 36 44 93 3d 04 00 00 00 ff ff ff\n",
       "[6121] ff ff ff ff ff 00 00 00 00 e8 12 eb be 06 00 00 80 ff ff ff ff ff ff ff\n",
       "[6145] ff 00 00 00 00 db fc 4f 3e 06 00 00 00 ff ff ff ff ff ff ff ff 00 00 00\n",
       "[6169] 00 13 68 5b bd d8 8c 08 3e 6c 3e 3a 41 49 d8 fc bc 01 00 00 00 62 1a 19\n",
       "[6193] 3e a6 ba 27 41 2c a2 92 bd 00 00 00 00 00 00 00 00 29 1e 94 3f 3a 15 4d\n",
       "[6217] 3e 00 00 00 00 a8 54 15 3e 8f c9 00 41 ca f8 2a 3b 01 00 00 00 56 f8 87\n",
       "[6241] 3e 5e c4 1b 40 61 37 7c be 02 00 00 00 00 00 00 00 ff a4 90 3f 52 73 6b\n",
       "[6265] be 00 00 00 00 fb e7 0f 3e de 69 dd 40 b0 c3 84 3d 02 00 00 00 00 00 00\n",
       "[6289] 00 e5 d1 9e 3f 36 44 93 3d 00 00 00 00 00 00 00 00 d7 b6 98 3f e8 12 eb\n",
       "[6313] be 00 00 00 00 00 00 00 00 e7 20 37 40 db fc 4f 3e 00 00 00 00 00 00 00\n",
       "[6337] 00 6b d9 81 40 13 68 5b bd 00 00 00 00 00 00 00 00 00 00 00 00 00 00 00\n",
       "[6361] 00 00 00 00 00 00 00 00 00 00 00 00 00 00 00 00 00 00 00 00 00 00 00 00\n",
       "[6385] 00 00 00 00 00\n",
       "\n",
       "attr(,\"class\")\n",
       "[1] \"xgb.Booster\""
      ]
     },
     "metadata": {},
     "output_type": "display_data"
    }
   ],
   "source": [
    "bst"
   ]
  },
  {
   "cell_type": "code",
   "execution_count": 45,
   "metadata": {
    "collapsed": false
   },
   "outputs": [
    {
     "name": "stdout",
     "output_type": "stream",
     "text": [
      "            Feature        Gain       Cover  Frequence\n",
      "1:              Age 0.622031651 0.672517058 0.67241379\n",
      "2: TreatmentPlacebo 0.285750607 0.119166557 0.10344828\n",
      "3:          SexMale 0.048744054 0.045220269 0.08620690\n",
      "4:      AgeDiscret6 0.016604647 0.047846371 0.05172414\n",
      "5:      AgeDiscret3 0.016373791 0.080289391 0.05172414\n",
      "6:      AgeDiscret4 0.009270558 0.028588012 0.01724138\n",
      "7:      AgeDiscret5 0.001224691 0.006372342 0.01724138\n"
     ]
    }
   ],
   "source": [
    "# Measure feature importance\n",
    "# Gain - Improvement in accuracy due to a feature add to a branch\n",
    "importance <- xgb.importance(feature_names = colnames(sparse_matrix), model = bst)\n",
    "print(importance)"
   ]
  },
  {
   "cell_type": "code",
   "execution_count": 50,
   "metadata": {
    "collapsed": false
   },
   "outputs": [
    {
     "data": {},
     "metadata": {},
     "output_type": "display_data"
    },
    {
     "data": {
      "image/png": "[encoded data removed]",
      "text/plain": [
       "plot without title"
      ]
     },
     "metadata": {},
     "output_type": "display_data"
    }
   ],
   "source": [
    "# Show visually the importance of each of the features\n",
    "# Feature divided into 2 clusters: cluster with interesting features… and cluster with others.\n",
    "xgb.plot.importance(importance_matrix = importance)"
   ]
  },
  {
   "cell_type": "code",
   "execution_count": null,
   "metadata": {
    "collapsed": true
   },
   "outputs": [],
   "source": []
  }
 ],
 "metadata": {
  "kernelspec": {
   "display_name": "R",
   "language": "R",
   "name": "r"
  },
  "language_info": {
   "codemirror_mode": "r",
   "file_extension": ".r",
   "mimetype": "text/x-r-source",
   "name": "R",
   "pygments_lexer": "r",
   "version": "3.3.0"
  }
 },
 "nbformat": 4,
 "nbformat_minor": 2
}
