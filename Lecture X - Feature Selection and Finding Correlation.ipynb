{
 "cells": [
  {
   "cell_type": "markdown",
   "metadata": {},
   "source": [
    "# Feature Selection and Finding Correlation  \n",
    "Examples to illustrate how to find features that are strongly correlated with each other"
   ]
  },
  {
   "cell_type": "code",
   "execution_count": 1,
   "metadata": {
    "collapsed": false
   },
   "outputs": [
    {
     "name": "stderr",
     "output_type": "stream",
     "text": [
      "Loading required package: lattice\n",
      "Loading required package: ggplot2\n"
     ]
    }
   ],
   "source": [
    "# Load required library\n",
    "# mlbench provides several datasets from the UCI Machine Learning repository\n",
    "library(caret)\n",
    "library(mlbench)"
   ]
  },
  {
   "cell_type": "markdown",
   "metadata": {},
   "source": [
    "## Finding features that are highly correlated with each other  \n",
    "Package caret provides a findCorrelation matrix"
   ]
  },
  {
   "cell_type": "code",
   "execution_count": 2,
   "metadata": {
    "collapsed": false
   },
   "outputs": [
    {
     "data": {
      "text/html": [
       "<table>\n",
       "<thead><tr><th scope=col>Comp</th><th scope=col>Circ</th><th scope=col>D.Circ</th><th scope=col>Rad.Ra</th><th scope=col>Pr.Axis.Ra</th><th scope=col>Max.L.Ra</th><th scope=col>Scat.Ra</th><th scope=col>Elong</th><th scope=col>Pr.Axis.Rect</th><th scope=col>Max.L.Rect</th><th scope=col>Sc.Var.Maxis</th><th scope=col>Sc.Var.maxis</th><th scope=col>Ra.Gyr</th><th scope=col>Skew.Maxis</th><th scope=col>Skew.maxis</th><th scope=col>Kurt.maxis</th><th scope=col>Kurt.Maxis</th><th scope=col>Holl.Ra</th><th scope=col>Class</th></tr></thead>\n",
       "<tbody>\n",
       "\t<tr><td> 95 </td><td>48  </td><td> 83 </td><td>178 </td><td> 72 </td><td>10  </td><td>162 </td><td>42  </td><td>20  </td><td>159 </td><td>176 </td><td>379 </td><td>184 </td><td> 70 </td><td> 6  </td><td>16  </td><td>187 </td><td>197 </td><td>van </td></tr>\n",
       "\t<tr><td> 91 </td><td>41  </td><td> 84 </td><td>141 </td><td> 57 </td><td> 9  </td><td>149 </td><td>45  </td><td>19  </td><td>143 </td><td>170 </td><td>330 </td><td>158 </td><td> 72 </td><td> 9  </td><td>14  </td><td>189 </td><td>199 </td><td>van </td></tr>\n",
       "\t<tr><td>104 </td><td>50  </td><td>106 </td><td>209 </td><td> 66 </td><td>10  </td><td>207 </td><td>32  </td><td>23  </td><td>158 </td><td>223 </td><td>635 </td><td>220 </td><td> 73 </td><td>14  </td><td> 9  </td><td>188 </td><td>196 </td><td>saab</td></tr>\n",
       "\t<tr><td> 93 </td><td>41  </td><td> 82 </td><td>159 </td><td> 63 </td><td> 9  </td><td>144 </td><td>46  </td><td>19  </td><td>143 </td><td>160 </td><td>309 </td><td>127 </td><td> 63 </td><td> 6  </td><td>10  </td><td>199 </td><td>207 </td><td>van </td></tr>\n",
       "\t<tr><td> 85 </td><td>44  </td><td> 70 </td><td>205 </td><td>103 </td><td>52  </td><td>149 </td><td>45  </td><td>19  </td><td>144 </td><td>241 </td><td>325 </td><td>188 </td><td>127 </td><td> 9  </td><td>11  </td><td>180 </td><td>183 </td><td>bus </td></tr>\n",
       "\t<tr><td>107 </td><td>57  </td><td>106 </td><td>172 </td><td> 50 </td><td> 6  </td><td>255 </td><td>26  </td><td>28  </td><td>169 </td><td>280 </td><td>957 </td><td>264 </td><td> 85 </td><td> 5  </td><td> 9  </td><td>181 </td><td>183 </td><td>bus </td></tr>\n",
       "</tbody>\n",
       "</table>\n"
      ],
      "text/latex": [
       "\\begin{tabular}{r|lllllllllllllllllll}\n",
       " Comp & Circ & D.Circ & Rad.Ra & Pr.Axis.Ra & Max.L.Ra & Scat.Ra & Elong & Pr.Axis.Rect & Max.L.Rect & Sc.Var.Maxis & Sc.Var.maxis & Ra.Gyr & Skew.Maxis & Skew.maxis & Kurt.maxis & Kurt.Maxis & Holl.Ra & Class\\\\\n",
       "\\hline\n",
       "\t  95  & 48   &  83  & 178  &  72  & 10   & 162  & 42   & 20   & 159  & 176  & 379  & 184  &  70  &  6   & 16   & 187  & 197  & van \\\\\n",
       "\t  91  & 41   &  84  & 141  &  57  &  9   & 149  & 45   & 19   & 143  & 170  & 330  & 158  &  72  &  9   & 14   & 189  & 199  & van \\\\\n",
       "\t 104  & 50   & 106  & 209  &  66  & 10   & 207  & 32   & 23   & 158  & 223  & 635  & 220  &  73  & 14   &  9   & 188  & 196  & saab\\\\\n",
       "\t  93  & 41   &  82  & 159  &  63  &  9   & 144  & 46   & 19   & 143  & 160  & 309  & 127  &  63  &  6   & 10   & 199  & 207  & van \\\\\n",
       "\t  85  & 44   &  70  & 205  & 103  & 52   & 149  & 45   & 19   & 144  & 241  & 325  & 188  & 127  &  9   & 11   & 180  & 183  & bus \\\\\n",
       "\t 107  & 57   & 106  & 172  &  50  &  6   & 255  & 26   & 28   & 169  & 280  & 957  & 264  &  85  &  5   &  9   & 181  & 183  & bus \\\\\n",
       "\\end{tabular}\n"
      ],
      "text/markdown": [
       "\n",
       "Comp | Circ | D.Circ | Rad.Ra | Pr.Axis.Ra | Max.L.Ra | Scat.Ra | Elong | Pr.Axis.Rect | Max.L.Rect | Sc.Var.Maxis | Sc.Var.maxis | Ra.Gyr | Skew.Maxis | Skew.maxis | Kurt.maxis | Kurt.Maxis | Holl.Ra | Class | \n",
       "|---|---|---|---|---|---|\n",
       "|  95  | 48   |  83  | 178  |  72  | 10   | 162  | 42   | 20   | 159  | 176  | 379  | 184  |  70  |  6   | 16   | 187  | 197  | van  | \n",
       "|  91  | 41   |  84  | 141  |  57  |  9   | 149  | 45   | 19   | 143  | 170  | 330  | 158  |  72  |  9   | 14   | 189  | 199  | van  | \n",
       "| 104  | 50   | 106  | 209  |  66  | 10   | 207  | 32   | 23   | 158  | 223  | 635  | 220  |  73  | 14   |  9   | 188  | 196  | saab | \n",
       "|  93  | 41   |  82  | 159  |  63  |  9   | 144  | 46   | 19   | 143  | 160  | 309  | 127  |  63  |  6   | 10   | 199  | 207  | van  | \n",
       "|  85  | 44   |  70  | 205  | 103  | 52   | 149  | 45   | 19   | 144  | 241  | 325  | 188  | 127  |  9   | 11   | 180  | 183  | bus  | \n",
       "| 107  | 57   | 106  | 172  |  50  |  6   | 255  | 26   | 28   | 169  | 280  | 957  | 264  |  85  |  5   |  9   | 181  | 183  | bus  | \n",
       "\n",
       "\n"
      ],
      "text/plain": [
       "  Comp Circ D.Circ Rad.Ra Pr.Axis.Ra Max.L.Ra Scat.Ra Elong Pr.Axis.Rect\n",
       "1  95  48    83    178     72        10       162     42    20          \n",
       "2  91  41    84    141     57         9       149     45    19          \n",
       "3 104  50   106    209     66        10       207     32    23          \n",
       "4  93  41    82    159     63         9       144     46    19          \n",
       "5  85  44    70    205    103        52       149     45    19          \n",
       "6 107  57   106    172     50         6       255     26    28          \n",
       "  Max.L.Rect Sc.Var.Maxis Sc.Var.maxis Ra.Gyr Skew.Maxis Skew.maxis Kurt.maxis\n",
       "1 159        176          379          184     70         6         16        \n",
       "2 143        170          330          158     72         9         14        \n",
       "3 158        223          635          220     73        14          9        \n",
       "4 143        160          309          127     63         6         10        \n",
       "5 144        241          325          188    127         9         11        \n",
       "6 169        280          957          264     85         5          9        \n",
       "  Kurt.Maxis Holl.Ra Class\n",
       "1 187        197     van  \n",
       "2 189        199     van  \n",
       "3 188        196     saab \n",
       "4 199        207     van  \n",
       "5 180        183     bus  \n",
       "6 181        183     bus  "
      ]
     },
     "metadata": {},
     "output_type": "display_data"
    },
    {
     "data": {
      "text/html": [
       "19"
      ],
      "text/latex": [
       "19"
      ],
      "text/markdown": [
       "19"
      ],
      "text/plain": [
       "[1] 19"
      ]
     },
     "metadata": {},
     "output_type": "display_data"
    }
   ],
   "source": [
    "# Goal is to classify a given silhouette as one of four types of vehicle\n",
    "# features are extracted from the silhouette\n",
    "data(Vehicle)\n",
    "head(Vehicle)\n",
    "ncol(Vehicle)"
   ]
  },
  {
   "cell_type": "code",
   "execution_count": 3,
   "metadata": {
    "collapsed": false
   },
   "outputs": [
    {
     "name": "stdout",
     "output_type": "stream",
     "text": [
      "                    Comp        Circ     D.Circ      Rad.Ra  Pr.Axis.Ra\n",
      "Comp          1.00000000  0.69286923  0.7924440  0.69165856  0.09322213\n",
      "Circ          0.69286923  1.00000000  0.7984920  0.62277837  0.14969187\n",
      "D.Circ        0.79244402  0.79849200  1.0000000  0.77164394  0.16152916\n",
      "Rad.Ra        0.69165856  0.62277837  0.7716439  1.00000000  0.66540656\n",
      "Pr.Axis.Ra    0.09322213  0.14969187  0.1615292  0.66540656  1.00000000\n",
      "Max.L.Ra      0.14824919  0.24746673  0.2643086  0.44804838  0.64809643\n",
      "Scat.Ra       0.81300326  0.86036714  0.9072801  0.73846048  0.10606364\n",
      "Elong        -0.78864702 -0.82875480 -0.9123072 -0.79255741 -0.18508583\n",
      "Pr.Axis.Rect  0.81343702  0.85792532  0.8953261  0.71149706  0.07998168\n",
      "Max.L.Rect    0.67614317  0.96577578  0.7745238  0.57015440  0.12916829\n",
      "Sc.Var.Maxis  0.76441546  0.80849631  0.8644323  0.79758793  0.27470468\n",
      "Sc.Var.maxis  0.81863161  0.85267941  0.8896611  0.72578142  0.09218201\n",
      "Ra.Gyr        0.58534709  0.93608041  0.7058181  0.53906903  0.12440783\n",
      "Skew.Maxis   -0.25298400  0.05866929 -0.2316598 -0.18241222  0.15230355\n",
      "Skew.maxis    0.23369282  0.14843285  0.1164777  0.05053425 -0.05680698\n",
      "Kurt.maxis    0.15677928 -0.01548177  0.2645222  0.17429937 -0.03417976\n",
      "Kurt.Maxis    0.29778044 -0.11304723  0.1479800  0.38075719  0.23819525\n",
      "Holl.Ra       0.36555185  0.03867702  0.3354525  0.46927820  0.26738123\n",
      "                Max.L.Ra      Scat.Ra       Elong Pr.Axis.Rect   Max.L.Rect\n",
      "Comp          0.14824919  0.813003257 -0.78864702   0.81343702  0.676143173\n",
      "Circ          0.24746673  0.860367138 -0.82875480   0.85792532  0.965775776\n",
      "D.Circ        0.26430861  0.907280057 -0.91230719   0.89532606  0.774523840\n",
      "Rad.Ra        0.44804838  0.738460476 -0.79255741   0.71149706  0.570154405\n",
      "Pr.Axis.Ra    0.64809643  0.106063643 -0.18508583   0.07998168  0.129168289\n",
      "Max.L.Ra      1.00000000  0.166769266 -0.18004430   0.16186089  0.305942689\n",
      "Scat.Ra       0.16676927  1.000000000 -0.97338534   0.99208835  0.810647613\n",
      "Elong        -0.18004430 -0.973385344  1.00000000  -0.95051244 -0.775530913\n",
      "Pr.Axis.Rect  0.16186089  0.992088347 -0.95051244   1.00000000  0.813304735\n",
      "Max.L.Rect    0.30594269  0.810647613 -0.77553091   0.81330473  1.000000000\n",
      "Sc.Var.Maxis  0.31942961  0.951862122 -0.93839190   0.93826639  0.747151993\n",
      "Sc.Var.maxis  0.14460641  0.996318013 -0.95652176   0.99234619  0.798071495\n",
      "Ra.Gyr        0.18979054  0.800931523 -0.76614632   0.79828199  0.866478540\n",
      "Skew.Maxis    0.29454772 -0.028618420  0.10487465  -0.01633331  0.040339043\n",
      "Skew.maxis    0.01521789  0.074347173 -0.05334635   0.08234563  0.137473338\n",
      "Kurt.maxis    0.04337924  0.210706455 -0.18518873   0.21308767  0.001183035\n",
      "Kurt.Maxis   -0.02731663  0.004053166 -0.11204551  -0.02205601 -0.107718191\n",
      "Holl.Ra       0.14391873  0.119949827 -0.21672508   0.09851910  0.076769617\n",
      "             Sc.Var.Maxis Sc.Var.maxis      Ra.Gyr  Skew.Maxis  Skew.maxis\n",
      "Comp           0.76441546  0.818631612  0.58534709 -0.25298400  0.23369282\n",
      "Circ           0.80849631  0.852679411  0.93608041  0.05866929  0.14843285\n",
      "D.Circ         0.86443228  0.889661065  0.70581805 -0.23165977  0.11647771\n",
      "Rad.Ra         0.79758793  0.725781417  0.53906903 -0.18241222  0.05053425\n",
      "Pr.Axis.Ra     0.27470468  0.092182007  0.12440783  0.15230355 -0.05680698\n",
      "Max.L.Ra       0.31942961  0.144606405  0.18979054  0.29454772  0.01521789\n",
      "Scat.Ra        0.95186212  0.996318013  0.80093152 -0.02861842  0.07434717\n",
      "Elong         -0.93839190 -0.956521755 -0.76614632  0.10487465 -0.05334635\n",
      "Pr.Axis.Rect   0.93826639  0.992346188  0.79828199 -0.01633331  0.08234563\n",
      "Max.L.Rect     0.74715199  0.798071495  0.86647854  0.04033904  0.13747334\n",
      "Sc.Var.Maxis   1.00000000  0.949887874  0.78096248  0.11129593  0.03913734\n",
      "Sc.Var.maxis   0.94988787  1.000000000  0.79753961 -0.01987247  0.07643542\n",
      "Ra.Gyr         0.78096248  0.797539612  1.00000000  0.19120943  0.16800281\n",
      "Skew.Maxis     0.11129593 -0.019872473  0.19120943  1.00000000 -0.09253891\n",
      "Skew.maxis     0.03913734  0.076435424  0.16800281 -0.09253891  1.00000000\n",
      "Kurt.maxis     0.19194816  0.202893719 -0.05621812 -0.12615735 -0.03936531\n",
      "Kurt.Maxis     0.01118902  0.005379651 -0.22736551 -0.75414191  0.11693185\n",
      "Holl.Ra        0.08553952  0.105432191 -0.11780842 -0.80539854  0.09914923\n",
      "               Kurt.maxis   Kurt.Maxis     Holl.Ra\n",
      "Comp          0.156779278  0.297780441  0.36555185\n",
      "Circ         -0.015481769 -0.113047232  0.03867702\n",
      "D.Circ        0.264522153  0.147979965  0.33545253\n",
      "Rad.Ra        0.174299370  0.380757189  0.46927820\n",
      "Pr.Axis.Ra   -0.034179762  0.238195253  0.26738123\n",
      "Max.L.Ra      0.043379243 -0.027316627  0.14391873\n",
      "Scat.Ra       0.210706455  0.004053166  0.11994983\n",
      "Elong        -0.185188734 -0.112045506 -0.21672508\n",
      "Pr.Axis.Rect  0.213087671 -0.022056010  0.09851910\n",
      "Max.L.Rect    0.001183035 -0.107718191  0.07676962\n",
      "Sc.Var.Maxis  0.191948164  0.011189021  0.08553952\n",
      "Sc.Var.maxis  0.202893719  0.005379651  0.10543219\n",
      "Ra.Gyr       -0.056218120 -0.227365512 -0.11780842\n",
      "Skew.Maxis   -0.126157345 -0.754141913 -0.80539854\n",
      "Skew.maxis   -0.039365312  0.116931854  0.09914923\n",
      "Kurt.maxis    1.000000000  0.079089910  0.20492360\n",
      "Kurt.Maxis    0.079089910  1.000000000  0.89409781\n",
      "Holl.Ra       0.204923603  0.894097812  1.00000000\n"
     ]
    }
   ],
   "source": [
    "# calculate correlation matrix\n",
    "correlationMatrix <- cor(Vehicle[,1:18])\n",
    "print(correlationMatrix) "
   ]
  },
  {
   "cell_type": "code",
   "execution_count": 4,
   "metadata": {
    "collapsed": false
   },
   "outputs": [
    {
     "name": "stdout",
     "output_type": "stream",
     "text": [
      " [1]  3  8 11  7  9 12  4  2  1 13 18  6 17\n"
     ]
    }
   ],
   "source": [
    "# Identify highly correlated\n",
    "highCorrelation <- findCorrelation(correlationMatrix, cutoff=0.5)\n",
    "print(highCorrelation)"
   ]
  },
  {
   "cell_type": "code",
   "execution_count": 5,
   "metadata": {
    "collapsed": false
   },
   "outputs": [
    {
     "data": {
      "text/html": [
       "<ol class=list-inline>\n",
       "\t<li>'D.Circ'</li>\n",
       "\t<li>'Elong'</li>\n",
       "\t<li>'Sc.Var.Maxis'</li>\n",
       "\t<li>'Scat.Ra'</li>\n",
       "\t<li>'Pr.Axis.Rect'</li>\n",
       "\t<li>'Sc.Var.maxis'</li>\n",
       "\t<li>'Rad.Ra'</li>\n",
       "\t<li>'Circ'</li>\n",
       "\t<li>'Comp'</li>\n",
       "\t<li>'Ra.Gyr'</li>\n",
       "\t<li>'Holl.Ra'</li>\n",
       "\t<li>'Max.L.Ra'</li>\n",
       "\t<li>'Kurt.Maxis'</li>\n",
       "</ol>\n"
      ],
      "text/latex": [
       "\\begin{enumerate*}\n",
       "\\item 'D.Circ'\n",
       "\\item 'Elong'\n",
       "\\item 'Sc.Var.Maxis'\n",
       "\\item 'Scat.Ra'\n",
       "\\item 'Pr.Axis.Rect'\n",
       "\\item 'Sc.Var.maxis'\n",
       "\\item 'Rad.Ra'\n",
       "\\item 'Circ'\n",
       "\\item 'Comp'\n",
       "\\item 'Ra.Gyr'\n",
       "\\item 'Holl.Ra'\n",
       "\\item 'Max.L.Ra'\n",
       "\\item 'Kurt.Maxis'\n",
       "\\end{enumerate*}\n"
      ],
      "text/markdown": [
       "1. 'D.Circ'\n",
       "2. 'Elong'\n",
       "3. 'Sc.Var.Maxis'\n",
       "4. 'Scat.Ra'\n",
       "5. 'Pr.Axis.Rect'\n",
       "6. 'Sc.Var.maxis'\n",
       "7. 'Rad.Ra'\n",
       "8. 'Circ'\n",
       "9. 'Comp'\n",
       "10. 'Ra.Gyr'\n",
       "11. 'Holl.Ra'\n",
       "12. 'Max.L.Ra'\n",
       "13. 'Kurt.Maxis'\n",
       "\n",
       "\n"
      ],
      "text/plain": [
       " [1] \"D.Circ\"       \"Elong\"        \"Sc.Var.Maxis\" \"Scat.Ra\"      \"Pr.Axis.Rect\"\n",
       " [6] \"Sc.Var.maxis\" \"Rad.Ra\"       \"Circ\"         \"Comp\"         \"Ra.Gyr\"      \n",
       "[11] \"Holl.Ra\"      \"Max.L.Ra\"     \"Kurt.Maxis\"  "
      ]
     },
     "metadata": {},
     "output_type": "display_data"
    }
   ],
   "source": [
    "# Show the columnNames\n",
    "colnames(Vehicle[highCorrelation])"
   ]
  },
  {
   "cell_type": "markdown",
   "metadata": {},
   "source": [
    "## Ranking Features"
   ]
  },
  {
   "cell_type": "code",
   "execution_count": 6,
   "metadata": {
    "collapsed": true
   },
   "outputs": [],
   "source": [
    "# Define train contrpl\n",
    "control <- trainControl(method=\"repeatedcv\", number=10, repeats=3)\n"
   ]
  },
  {
   "cell_type": "code",
   "execution_count": 7,
   "metadata": {
    "collapsed": false
   },
   "outputs": [
    {
     "name": "stderr",
     "output_type": "stream",
     "text": [
      "Loading required package: rpart\n"
     ]
    }
   ],
   "source": [
    "# Training the model\n",
    "model <- train(Class~., data=Vehicle, method=\"rpart\", preProcess=\"scale\", trControl=control)\n"
   ]
  },
  {
   "cell_type": "code",
   "execution_count": 8,
   "metadata": {
    "collapsed": false
   },
   "outputs": [
    {
     "name": "stdout",
     "output_type": "stream",
     "text": [
      "rpart variable importance\n",
      "\n",
      "             Overall\n",
      "Max.L.Ra      131.38\n",
      "Sc.Var.Maxis   89.11\n",
      "Elong          88.61\n",
      "Sc.Var.maxis   62.50\n",
      "Scat.Ra        58.38\n",
      "Skew.Maxis     36.65\n",
      "Holl.Ra        33.68\n",
      "D.Circ          0.00\n",
      "Comp            0.00\n",
      "Ra.Gyr          0.00\n",
      "Kurt.Maxis      0.00\n",
      "Circ            0.00\n",
      "Pr.Axis.Rect    0.00\n",
      "Kurt.maxis      0.00\n",
      "Rad.Ra          0.00\n",
      "Pr.Axis.Ra      0.00\n",
      "Max.L.Rect      0.00\n",
      "Skew.maxis      0.00\n"
     ]
    }
   ],
   "source": [
    "# Get the importance of each feature\n",
    "importance <- varImp(model, scale=FALSE)\n",
    "print(importance)"
   ]
  },
  {
   "cell_type": "code",
   "execution_count": 9,
   "metadata": {
    "collapsed": false
   },
   "outputs": [
    {
     "data": {},
     "metadata": {},
     "output_type": "display_data"
    },
    {
     "data": {
      "image/png": "[encoded data removed]",
      "text/plain": [
       "plot without title"
      ]
     },
     "metadata": {},
     "output_type": "display_data"
    }
   ],
   "source": [
    "plot(importance)"
   ]
  },
  {
   "cell_type": "markdown",
   "metadata": {},
   "source": [
    "## Feature Selection"
   ]
  },
  {
   "cell_type": "code",
   "execution_count": 10,
   "metadata": {
    "collapsed": false
   },
   "outputs": [],
   "source": [
    "# define the control using a random forest selection function\n",
    "control <- rfeControl(functions=rfFuncs, method=\"cv\", number=10)\n"
   ]
  },
  {
   "cell_type": "code",
   "execution_count": null,
   "metadata": {
    "collapsed": false
   },
   "outputs": [
    {
     "name": "stderr",
     "output_type": "stream",
     "text": [
      "Loading required package: randomForest\n",
      "randomForest 4.6-12\n",
      "Type rfNews() to see new features/changes/bug fixes.\n",
      "\n",
      "Attaching package: 'randomForest'\n",
      "\n",
      "The following object is masked from 'package:ggplot2':\n",
      "\n",
      "    margin\n",
      "\n"
     ]
    }
   ],
   "source": [
    "# run the RFE algorithm\n",
    "results <- rfe(Vehicle[,1:18], Vehicle[,19], sizes=c(1:18), rfeControl=control)\n"
   ]
  },
  {
   "cell_type": "code",
   "execution_count": null,
   "metadata": {
    "collapsed": false
   },
   "outputs": [],
   "source": [
    "# summarize the results\n",
    "print(results)\n",
    "\n",
    "# list the chosen features\n",
    "predictors(results)\n"
   ]
  },
  {
   "cell_type": "code",
   "execution_count": null,
   "metadata": {
    "collapsed": true
   },
   "outputs": [],
   "source": []
  }
 ],
 "metadata": {
  "kernelspec": {
   "display_name": "R",
   "language": "R",
   "name": "r"
  },
  "language_info": {
   "codemirror_mode": "r",
   "file_extension": ".r",
   "mimetype": "text/x-r-source",
   "name": "R",
   "pygments_lexer": "r",
   "version": "3.3.0"
  }
 },
 "nbformat": 4,
 "nbformat_minor": 2
}
